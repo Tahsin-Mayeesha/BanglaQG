{
  "nbformat": 4,
  "nbformat_minor": 0,
  "metadata": {
    "colab": {
      "provenance": [],
      "collapsed_sections": [
        "G6F9hjqZX8bR",
        "OzFRHf8jNkZG",
        "U-ycTZZ6gKqf",
        "pYMYVyvPMHrc"
      ]
    },
    "kernelspec": {
      "name": "python3",
      "display_name": "Python 3"
    },
    "language_info": {
      "name": "python"
    }
  },
  "cells": [
    {
      "cell_type": "markdown",
      "source": [
        "# Results \n",
        "\n",
        "* 66 questions in reference questions have no \"?\" marks\n",
        "\n",
        "## Banglat5\n",
        "\n",
        "```\n",
        "{'numbeams5': 12,\n",
        " 'greedy': 6,\n",
        " 'numbeams3': 184,\n",
        " 'numbeams10': 19,\n",
        " 'topk50_topp095': 52,\n",
        " 'topk90_topp095': 48,\n",
        " 'numbeams7': 18,\n",
        " 'topk10_temperature0.7': 7,\n",
        " 'topp1_temperature0.95': 173}\n",
        "```\n",
        "\n",
        " ## Mt5_small\n",
        "\n",
        " ```\n",
        " {'numbeams3': 184,\n",
        " 'topk50_topp095': 230,\n",
        " 'topk90_topp095': 201,\n",
        " 'topk10_temperature0.7': 103,\n",
        " 'numbeams5': 225,\n",
        " 'numbeams7': 250,\n",
        " 'numbeams10': 297,\n",
        " 'topp1_temperature0.95': 173,\n",
        " 'greedy: 154}\n",
        "```\n",
        "\n"
      ],
      "metadata": {
        "id": "K6RN-vKMND4i"
      }
    },
    {
      "cell_type": "markdown",
      "source": [
        "Data viz"
      ],
      "metadata": {
        "id": "5u3700yFX6XC"
      }
    },
    {
      "cell_type": "code",
      "source": [
        "import matplotlib.pyplot as plt\n",
        "%matplotlib inline"
      ],
      "metadata": {
        "id": "-k4oWi5eaEWO"
      },
      "execution_count": null,
      "outputs": []
    },
    {
      "cell_type": "code",
      "source": [
        "!pip install seaborn"
      ],
      "metadata": {
        "colab": {
          "base_uri": "https://localhost:8080/"
        },
        "id": "mBXk8FrhZZk4",
        "outputId": "f746e757-3243-4a02-824a-2f53fded4ec6"
      },
      "execution_count": null,
      "outputs": [
        {
          "output_type": "stream",
          "name": "stdout",
          "text": [
            "Looking in indexes: https://pypi.org/simple, https://us-python.pkg.dev/colab-wheels/public/simple/\n",
            "Requirement already satisfied: seaborn in /usr/local/lib/python3.7/dist-packages (0.11.2)\n",
            "Requirement already satisfied: scipy>=1.0 in /usr/local/lib/python3.7/dist-packages (from seaborn) (1.7.3)\n",
            "Requirement already satisfied: pandas>=0.23 in /usr/local/lib/python3.7/dist-packages (from seaborn) (1.3.5)\n",
            "Requirement already satisfied: numpy>=1.15 in /usr/local/lib/python3.7/dist-packages (from seaborn) (1.21.6)\n",
            "Requirement already satisfied: matplotlib>=2.2 in /usr/local/lib/python3.7/dist-packages (from seaborn) (3.2.2)\n",
            "Requirement already satisfied: kiwisolver>=1.0.1 in /usr/local/lib/python3.7/dist-packages (from matplotlib>=2.2->seaborn) (1.4.4)\n",
            "Requirement already satisfied: pyparsing!=2.0.4,!=2.1.2,!=2.1.6,>=2.0.1 in /usr/local/lib/python3.7/dist-packages (from matplotlib>=2.2->seaborn) (3.0.9)\n",
            "Requirement already satisfied: cycler>=0.10 in /usr/local/lib/python3.7/dist-packages (from matplotlib>=2.2->seaborn) (0.11.0)\n",
            "Requirement already satisfied: python-dateutil>=2.1 in /usr/local/lib/python3.7/dist-packages (from matplotlib>=2.2->seaborn) (2.8.2)\n",
            "Requirement already satisfied: typing-extensions in /usr/local/lib/python3.7/dist-packages (from kiwisolver>=1.0.1->matplotlib>=2.2->seaborn) (4.1.1)\n",
            "Requirement already satisfied: pytz>=2017.3 in /usr/local/lib/python3.7/dist-packages (from pandas>=0.23->seaborn) (2022.4)\n",
            "Requirement already satisfied: six>=1.5 in /usr/local/lib/python3.7/dist-packages (from python-dateutil>=2.1->matplotlib>=2.2->seaborn) (1.15.0)\n"
          ]
        }
      ]
    },
    {
      "cell_type": "code",
      "source": [
        "import seaborn as sns\n",
        "sns.set_theme(style=\"whitegrid\")\n",
        "\n",
        "df = sns.load_dataset(\"titanic\")\n",
        "\n",
        "g = sns.catplot(\n",
        "    data=df, x=\"who\", y=\"survived\", col=\"class\",\n",
        "    kind=\"bar\", height=4, aspect=.6,\n",
        ")\n",
        "g.set_axis_labels(\"\", \"Survival Rate\")\n",
        "g.set_xticklabels([\"Men\", \"Women\", \"Children\"])\n",
        "g.set_titles(\"{col_name} {col_var}\")\n",
        "g.set(ylim=(0, 1))\n",
        "g.despine(left=True)\n"
      ],
      "metadata": {
        "colab": {
          "base_uri": "https://localhost:8080/",
          "height": 293
        },
        "id": "aeahDnF4ZUVf",
        "outputId": "7fd0e23f-581f-4298-aaef-62b4bfed75a4"
      },
      "execution_count": null,
      "outputs": [
        {
          "output_type": "execute_result",
          "data": {
            "text/plain": [
              "<seaborn.axisgrid.FacetGrid at 0x7f37199475d0>"
            ]
          },
          "metadata": {},
          "execution_count": 117
        },
        {
          "output_type": "display_data",
          "data": {
            "text/plain": [
              "<Figure size 518.4x288 with 3 Axes>"
            ],
            "image/png": "[encoded data removed]"
          },
          "metadata": {}
        }
      ]
    },
    {
      "cell_type": "code",
      "source": [
        "df.head()"
      ],
      "metadata": {
        "colab": {
          "base_uri": "https://localhost:8080/",
          "height": 206
        },
        "id": "pIHG-axNaMiS",
        "outputId": "ef2ff52c-ad8c-47f2-b995-27dd209cd238"
      },
      "execution_count": null,
      "outputs": [
        {
          "output_type": "execute_result",
          "data": {
            "text/plain": [
              "   survived  pclass     sex   age  sibsp  parch     fare embarked  class  \\\n",
              "0         0       3    male  22.0      1      0   7.2500        S  Third   \n",
              "1         1       1  female  38.0      1      0  71.2833        C  First   \n",
              "2         1       3  female  26.0      0      0   7.9250        S  Third   \n",
              "3         1       1  female  35.0      1      0  53.1000        S  First   \n",
              "4         0       3    male  35.0      0      0   8.0500        S  Third   \n",
              "\n",
              "     who  adult_male deck  embark_town alive  alone  \n",
              "0    man        True  NaN  Southampton    no  False  \n",
              "1  woman       False    C    Cherbourg   yes  False  \n",
              "2  woman       False  NaN  Southampton   yes   True  \n",
              "3  woman       False    C  Southampton   yes  False  \n",
              "4    man        True  NaN  Southampton    no   True  "
            ],
            "text/html": [
              "\n",
              "  <div id=\"df-bfa8e416-8491-42eb-a0b7-6356e721dc5b\">\n",
              "    <div class=\"colab-df-container\">\n",
              "      <div>\n",
              "<style scoped>\n",
              "    .dataframe tbody tr th:only-of-type {\n",
              "        vertical-align: middle;\n",
              "    }\n",
              "\n",
              "    .dataframe tbody tr th {\n",
              "        vertical-align: top;\n",
              "    }\n",
              "\n",
              "    .dataframe thead th {\n",
              "        text-align: right;\n",
              "    }\n",
              "</style>\n",
              "<table border=\"1\" class=\"dataframe\">\n",
              "  <thead>\n",
              "    <tr style=\"text-align: right;\">\n",
              "      <th></th>\n",
              "      <th>survived</th>\n",
              "      <th>pclass</th>\n",
              "      <th>sex</th>\n",
              "      <th>age</th>\n",
              "      <th>sibsp</th>\n",
              "      <th>parch</th>\n",
              "      <th>fare</th>\n",
              "      <th>embarked</th>\n",
              "      <th>class</th>\n",
              "      <th>who</th>\n",
              "      <th>adult_male</th>\n",
              "      <th>deck</th>\n",
              "      <th>embark_town</th>\n",
              "      <th>alive</th>\n",
              "      <th>alone</th>\n",
              "    </tr>\n",
              "  </thead>\n",
              "  <tbody>\n",
              "    <tr>\n",
              "      <th>0</th>\n",
              "      <td>0</td>\n",
              "      <td>3</td>\n",
              "      <td>male</td>\n",
              "      <td>22.0</td>\n",
              "      <td>1</td>\n",
              "      <td>0</td>\n",
              "      <td>7.2500</td>\n",
              "      <td>S</td>\n",
              "      <td>Third</td>\n",
              "      <td>man</td>\n",
              "      <td>True</td>\n",
              "      <td>NaN</td>\n",
              "      <td>Southampton</td>\n",
              "      <td>no</td>\n",
              "      <td>False</td>\n",
              "    </tr>\n",
              "    <tr>\n",
              "      <th>1</th>\n",
              "      <td>1</td>\n",
              "      <td>1</td>\n",
              "      <td>female</td>\n",
              "      <td>38.0</td>\n",
              "      <td>1</td>\n",
              "      <td>0</td>\n",
              "      <td>71.2833</td>\n",
              "      <td>C</td>\n",
              "      <td>First</td>\n",
              "      <td>woman</td>\n",
              "      <td>False</td>\n",
              "      <td>C</td>\n",
              "      <td>Cherbourg</td>\n",
              "      <td>yes</td>\n",
              "      <td>False</td>\n",
              "    </tr>\n",
              "    <tr>\n",
              "      <th>2</th>\n",
              "      <td>1</td>\n",
              "      <td>3</td>\n",
              "      <td>female</td>\n",
              "      <td>26.0</td>\n",
              "      <td>0</td>\n",
              "      <td>0</td>\n",
              "      <td>7.9250</td>\n",
              "      <td>S</td>\n",
              "      <td>Third</td>\n",
              "      <td>woman</td>\n",
              "      <td>False</td>\n",
              "      <td>NaN</td>\n",
              "      <td>Southampton</td>\n",
              "      <td>yes</td>\n",
              "      <td>True</td>\n",
              "    </tr>\n",
              "    <tr>\n",
              "      <th>3</th>\n",
              "      <td>1</td>\n",
              "      <td>1</td>\n",
              "      <td>female</td>\n",
              "      <td>35.0</td>\n",
              "      <td>1</td>\n",
              "      <td>0</td>\n",
              "      <td>53.1000</td>\n",
              "      <td>S</td>\n",
              "      <td>First</td>\n",
              "      <td>woman</td>\n",
              "      <td>False</td>\n",
              "      <td>C</td>\n",
              "      <td>Southampton</td>\n",
              "      <td>yes</td>\n",
              "      <td>False</td>\n",
              "    </tr>\n",
              "    <tr>\n",
              "      <th>4</th>\n",
              "      <td>0</td>\n",
              "      <td>3</td>\n",
              "      <td>male</td>\n",
              "      <td>35.0</td>\n",
              "      <td>0</td>\n",
              "      <td>0</td>\n",
              "      <td>8.0500</td>\n",
              "      <td>S</td>\n",
              "      <td>Third</td>\n",
              "      <td>man</td>\n",
              "      <td>True</td>\n",
              "      <td>NaN</td>\n",
              "      <td>Southampton</td>\n",
              "      <td>no</td>\n",
              "      <td>True</td>\n",
              "    </tr>\n",
              "  </tbody>\n",
              "</table>\n",
              "</div>\n",
              "      <button class=\"colab-df-convert\" onclick=\"convertToInteractive('df-bfa8e416-8491-42eb-a0b7-6356e721dc5b')\"\n",
              "              title=\"Convert this dataframe to an interactive table.\"\n",
              "              style=\"display:none;\">\n",
              "        \n",
              "  <svg xmlns=\"http://www.w3.org/2000/svg\" height=\"24px\"viewBox=\"0 0 24 24\"\n",
              "       width=\"24px\">\n",
              "    <path d=\"M0 0h24v24H0V0z\" fill=\"none\"/>\n",
              "    <path d=\"M18.56 5.44l.94 2.06.94-2.06 2.06-.94-2.06-.94-.94-2.06-.94 2.06-2.06.94zm-11 1L8.5 8.5l.94-2.06 2.06-.94-2.06-.94L8.5 2.5l-.94 2.06-2.06.94zm10 10l.94 2.06.94-2.06 2.06-.94-2.06-.94-.94-2.06-.94 2.06-2.06.94z\"/><path d=\"M17.41 7.96l-1.37-1.37c-.4-.4-.92-.59-1.43-.59-.52 0-1.04.2-1.43.59L10.3 9.45l-7.72 7.72c-.78.78-.78 2.05 0 2.83L4 21.41c.39.39.9.59 1.41.59.51 0 1.02-.2 1.41-.59l7.78-7.78 2.81-2.81c.8-.78.8-2.07 0-2.86zM5.41 20L4 18.59l7.72-7.72 1.47 1.35L5.41 20z\"/>\n",
              "  </svg>\n",
              "      </button>\n",
              "      \n",
              "  <style>\n",
              "    .colab-df-container {\n",
              "      display:flex;\n",
              "      flex-wrap:wrap;\n",
              "      gap: 12px;\n",
              "    }\n",
              "\n",
              "    .colab-df-convert {\n",
              "      background-color: #E8F0FE;\n",
              "      border: none;\n",
              "      border-radius: 50%;\n",
              "      cursor: pointer;\n",
              "      display: none;\n",
              "      fill: #1967D2;\n",
              "      height: 32px;\n",
              "      padding: 0 0 0 0;\n",
              "      width: 32px;\n",
              "    }\n",
              "\n",
              "    .colab-df-convert:hover {\n",
              "      background-color: #E2EBFA;\n",
              "      box-shadow: 0px 1px 2px rgba(60, 64, 67, 0.3), 0px 1px 3px 1px rgba(60, 64, 67, 0.15);\n",
              "      fill: #174EA6;\n",
              "    }\n",
              "\n",
              "    [theme=dark] .colab-df-convert {\n",
              "      background-color: #3B4455;\n",
              "      fill: #D2E3FC;\n",
              "    }\n",
              "\n",
              "    [theme=dark] .colab-df-convert:hover {\n",
              "      background-color: #434B5C;\n",
              "      box-shadow: 0px 1px 3px 1px rgba(0, 0, 0, 0.15);\n",
              "      filter: drop-shadow(0px 1px 2px rgba(0, 0, 0, 0.3));\n",
              "      fill: #FFFFFF;\n",
              "    }\n",
              "  </style>\n",
              "\n",
              "      <script>\n",
              "        const buttonEl =\n",
              "          document.querySelector('#df-bfa8e416-8491-42eb-a0b7-6356e721dc5b button.colab-df-convert');\n",
              "        buttonEl.style.display =\n",
              "          google.colab.kernel.accessAllowed ? 'block' : 'none';\n",
              "\n",
              "        async function convertToInteractive(key) {\n",
              "          const element = document.querySelector('#df-bfa8e416-8491-42eb-a0b7-6356e721dc5b');\n",
              "          const dataTable =\n",
              "            await google.colab.kernel.invokeFunction('convertToInteractive',\n",
              "                                                     [key], {});\n",
              "          if (!dataTable) return;\n",
              "\n",
              "          const docLinkHtml = 'Like what you see? Visit the ' +\n",
              "            '<a target=\"_blank\" href=https://colab.research.google.com/notebooks/data_table.ipynb>data table notebook</a>'\n",
              "            + ' to learn more about interactive tables.';\n",
              "          element.innerHTML = '';\n",
              "          dataTable['output_type'] = 'display_data';\n",
              "          await google.colab.output.renderOutput(dataTable, element);\n",
              "          const docLink = document.createElement('div');\n",
              "          docLink.innerHTML = docLinkHtml;\n",
              "          element.appendChild(docLink);\n",
              "        }\n",
              "      </script>\n",
              "    </div>\n",
              "  </div>\n",
              "  "
            ]
          },
          "metadata": {},
          "execution_count": 118
        }
      ]
    },
    {
      "cell_type": "code",
      "source": [
        "settings = ['greedy','beam_search(3)','beam_search(5)','beam_search(7)','beam_search(10)','greedy','beam_search(3)','beam_search(5)','beam_search(7)','beam_search(10)']\n",
        "model = ['banglat5','banglat5','banglat5','banglat5','banglat5','mt5_small','mt5_small','mt5_small','mt5_small','mt5_small']\n",
        "values = [6,]"
      ],
      "metadata": {
        "id": "5PAk8YomX-xY"
      },
      "execution_count": null,
      "outputs": []
    },
    {
      "cell_type": "code",
      "source": [
        "bt5 = {'numbeams5': 12,\n",
        " 'greedy': 6,\n",
        " 'numbeams3': 184,\n",
        " 'numbeams10': 19,\n",
        " 'topk50_topp095': 52,\n",
        " 'topk90_topp095': 48,\n",
        " 'numbeams7': 18,\n",
        " 'topk10_temperature0.7': 7,\n",
        " 'topp1_temperature0.95': 173}"
      ],
      "metadata": {
        "id": "Rx1XSJB8X-s1"
      },
      "execution_count": null,
      "outputs": []
    },
    {
      "cell_type": "code",
      "source": [
        "settings = list(bt5.keys())"
      ],
      "metadata": {
        "id": "uXKm6BfnbO0H"
      },
      "execution_count": null,
      "outputs": []
    },
    {
      "cell_type": "code",
      "source": [
        "no_question_numbers = list(bt5.values())"
      ],
      "metadata": {
        "id": "hq14PKGTbQ7R"
      },
      "execution_count": null,
      "outputs": []
    },
    {
      "cell_type": "code",
      "source": [
        "result_df = pd.DataFrame.from_dict({'settings':settings,'no_question_numbers':no_question_numbers})"
      ],
      "metadata": {
        "id": "uUmZYfClX7ck"
      },
      "execution_count": null,
      "outputs": []
    },
    {
      "cell_type": "code",
      "source": [
        "result_df['model'] = 'banglat5'"
      ],
      "metadata": {
        "id": "EFfLGsQvboHg"
      },
      "execution_count": null,
      "outputs": []
    },
    {
      "cell_type": "code",
      "source": [
        "mt5 = {'numbeams3': 184,\n",
        " 'topk50_topp095': 230,\n",
        " 'topk90_topp095': 201,\n",
        " 'topk10_temperature0.7': 103,\n",
        " 'numbeams5': 225,\n",
        " 'numbeams7': 250,\n",
        " 'numbeams10': 297,\n",
        " 'topp1_temperature0.95': 173,\n",
        " 'greedy': 154}"
      ],
      "metadata": {
        "id": "Pfpi06zZbuzN"
      },
      "execution_count": null,
      "outputs": []
    },
    {
      "cell_type": "code",
      "source": [
        "settings = list(mt5.keys())"
      ],
      "metadata": {
        "id": "o55cuxfnbuu6"
      },
      "execution_count": null,
      "outputs": []
    },
    {
      "cell_type": "code",
      "source": [
        "no_question_numbers = list(mt5.values())"
      ],
      "metadata": {
        "id": "SnxVpNxibueI"
      },
      "execution_count": null,
      "outputs": []
    },
    {
      "cell_type": "code",
      "source": [
        "result_df2 = pd.DataFrame.from_dict({'settings':settings,'no_question_numbers':no_question_numbers})"
      ],
      "metadata": {
        "id": "-NRi6F_icEUG"
      },
      "execution_count": null,
      "outputs": []
    },
    {
      "cell_type": "code",
      "source": [
        "result_df2['model'] = 'mt5_small'"
      ],
      "metadata": {
        "id": "XKxVQV_icG8k"
      },
      "execution_count": null,
      "outputs": []
    },
    {
      "cell_type": "code",
      "source": [
        "result = pd.concat([result_df,result_df2],axis=0)"
      ],
      "metadata": {
        "id": "vyPkYw8TcKc6"
      },
      "execution_count": null,
      "outputs": []
    },
    {
      "cell_type": "code",
      "source": [
        "result"
      ],
      "metadata": {
        "colab": {
          "base_uri": "https://localhost:8080/",
          "height": 614
        },
        "id": "NXrz1FiScOyh",
        "outputId": "9be468c5-3b8d-4a0c-f719-6263b43043d4"
      },
      "execution_count": null,
      "outputs": [
        {
          "output_type": "execute_result",
          "data": {
            "text/plain": [
              "                settings  no_question_numbers      model\n",
              "0              numbeams5                   12   banglat5\n",
              "1                 greedy                    6   banglat5\n",
              "2              numbeams3                  184   banglat5\n",
              "3             numbeams10                   19   banglat5\n",
              "4         topk50_topp095                   52   banglat5\n",
              "5         topk90_topp095                   48   banglat5\n",
              "6              numbeams7                   18   banglat5\n",
              "7  topk10_temperature0.7                    7   banglat5\n",
              "8  topp1_temperature0.95                  173   banglat5\n",
              "0              numbeams3                  184  mt5_small\n",
              "1         topk50_topp095                  230  mt5_small\n",
              "2         topk90_topp095                  201  mt5_small\n",
              "3  topk10_temperature0.7                  103  mt5_small\n",
              "4              numbeams5                  225  mt5_small\n",
              "5              numbeams7                  250  mt5_small\n",
              "6             numbeams10                  297  mt5_small\n",
              "7  topp1_temperature0.95                  173  mt5_small\n",
              "8                 greedy                  154  mt5_small"
            ],
            "text/html": [
              "\n",
              "  <div id=\"df-17f8437a-3f7c-4cb3-80a1-4afd8efcf44a\">\n",
              "    <div class=\"colab-df-container\">\n",
              "      <div>\n",
              "<style scoped>\n",
              "    .dataframe tbody tr th:only-of-type {\n",
              "        vertical-align: middle;\n",
              "    }\n",
              "\n",
              "    .dataframe tbody tr th {\n",
              "        vertical-align: top;\n",
              "    }\n",
              "\n",
              "    .dataframe thead th {\n",
              "        text-align: right;\n",
              "    }\n",
              "</style>\n",
              "<table border=\"1\" class=\"dataframe\">\n",
              "  <thead>\n",
              "    <tr style=\"text-align: right;\">\n",
              "      <th></th>\n",
              "      <th>settings</th>\n",
              "      <th>no_question_numbers</th>\n",
              "      <th>model</th>\n",
              "    </tr>\n",
              "  </thead>\n",
              "  <tbody>\n",
              "    <tr>\n",
              "      <th>0</th>\n",
              "      <td>numbeams5</td>\n",
              "      <td>12</td>\n",
              "      <td>banglat5</td>\n",
              "    </tr>\n",
              "    <tr>\n",
              "      <th>1</th>\n",
              "      <td>greedy</td>\n",
              "      <td>6</td>\n",
              "      <td>banglat5</td>\n",
              "    </tr>\n",
              "    <tr>\n",
              "      <th>2</th>\n",
              "      <td>numbeams3</td>\n",
              "      <td>184</td>\n",
              "      <td>banglat5</td>\n",
              "    </tr>\n",
              "    <tr>\n",
              "      <th>3</th>\n",
              "      <td>numbeams10</td>\n",
              "      <td>19</td>\n",
              "      <td>banglat5</td>\n",
              "    </tr>\n",
              "    <tr>\n",
              "      <th>4</th>\n",
              "      <td>topk50_topp095</td>\n",
              "      <td>52</td>\n",
              "      <td>banglat5</td>\n",
              "    </tr>\n",
              "    <tr>\n",
              "      <th>5</th>\n",
              "      <td>topk90_topp095</td>\n",
              "      <td>48</td>\n",
              "      <td>banglat5</td>\n",
              "    </tr>\n",
              "    <tr>\n",
              "      <th>6</th>\n",
              "      <td>numbeams7</td>\n",
              "      <td>18</td>\n",
              "      <td>banglat5</td>\n",
              "    </tr>\n",
              "    <tr>\n",
              "      <th>7</th>\n",
              "      <td>topk10_temperature0.7</td>\n",
              "      <td>7</td>\n",
              "      <td>banglat5</td>\n",
              "    </tr>\n",
              "    <tr>\n",
              "      <th>8</th>\n",
              "      <td>topp1_temperature0.95</td>\n",
              "      <td>173</td>\n",
              "      <td>banglat5</td>\n",
              "    </tr>\n",
              "    <tr>\n",
              "      <th>0</th>\n",
              "      <td>numbeams3</td>\n",
              "      <td>184</td>\n",
              "      <td>mt5_small</td>\n",
              "    </tr>\n",
              "    <tr>\n",
              "      <th>1</th>\n",
              "      <td>topk50_topp095</td>\n",
              "      <td>230</td>\n",
              "      <td>mt5_small</td>\n",
              "    </tr>\n",
              "    <tr>\n",
              "      <th>2</th>\n",
              "      <td>topk90_topp095</td>\n",
              "      <td>201</td>\n",
              "      <td>mt5_small</td>\n",
              "    </tr>\n",
              "    <tr>\n",
              "      <th>3</th>\n",
              "      <td>topk10_temperature0.7</td>\n",
              "      <td>103</td>\n",
              "      <td>mt5_small</td>\n",
              "    </tr>\n",
              "    <tr>\n",
              "      <th>4</th>\n",
              "      <td>numbeams5</td>\n",
              "      <td>225</td>\n",
              "      <td>mt5_small</td>\n",
              "    </tr>\n",
              "    <tr>\n",
              "      <th>5</th>\n",
              "      <td>numbeams7</td>\n",
              "      <td>250</td>\n",
              "      <td>mt5_small</td>\n",
              "    </tr>\n",
              "    <tr>\n",
              "      <th>6</th>\n",
              "      <td>numbeams10</td>\n",
              "      <td>297</td>\n",
              "      <td>mt5_small</td>\n",
              "    </tr>\n",
              "    <tr>\n",
              "      <th>7</th>\n",
              "      <td>topp1_temperature0.95</td>\n",
              "      <td>173</td>\n",
              "      <td>mt5_small</td>\n",
              "    </tr>\n",
              "    <tr>\n",
              "      <th>8</th>\n",
              "      <td>greedy</td>\n",
              "      <td>154</td>\n",
              "      <td>mt5_small</td>\n",
              "    </tr>\n",
              "  </tbody>\n",
              "</table>\n",
              "</div>\n",
              "      <button class=\"colab-df-convert\" onclick=\"convertToInteractive('df-17f8437a-3f7c-4cb3-80a1-4afd8efcf44a')\"\n",
              "              title=\"Convert this dataframe to an interactive table.\"\n",
              "              style=\"display:none;\">\n",
              "        \n",
              "  <svg xmlns=\"http://www.w3.org/2000/svg\" height=\"24px\"viewBox=\"0 0 24 24\"\n",
              "       width=\"24px\">\n",
              "    <path d=\"M0 0h24v24H0V0z\" fill=\"none\"/>\n",
              "    <path d=\"M18.56 5.44l.94 2.06.94-2.06 2.06-.94-2.06-.94-.94-2.06-.94 2.06-2.06.94zm-11 1L8.5 8.5l.94-2.06 2.06-.94-2.06-.94L8.5 2.5l-.94 2.06-2.06.94zm10 10l.94 2.06.94-2.06 2.06-.94-2.06-.94-.94-2.06-.94 2.06-2.06.94z\"/><path d=\"M17.41 7.96l-1.37-1.37c-.4-.4-.92-.59-1.43-.59-.52 0-1.04.2-1.43.59L10.3 9.45l-7.72 7.72c-.78.78-.78 2.05 0 2.83L4 21.41c.39.39.9.59 1.41.59.51 0 1.02-.2 1.41-.59l7.78-7.78 2.81-2.81c.8-.78.8-2.07 0-2.86zM5.41 20L4 18.59l7.72-7.72 1.47 1.35L5.41 20z\"/>\n",
              "  </svg>\n",
              "      </button>\n",
              "      \n",
              "  <style>\n",
              "    .colab-df-container {\n",
              "      display:flex;\n",
              "      flex-wrap:wrap;\n",
              "      gap: 12px;\n",
              "    }\n",
              "\n",
              "    .colab-df-convert {\n",
              "      background-color: #E8F0FE;\n",
              "      border: none;\n",
              "      border-radius: 50%;\n",
              "      cursor: pointer;\n",
              "      display: none;\n",
              "      fill: #1967D2;\n",
              "      height: 32px;\n",
              "      padding: 0 0 0 0;\n",
              "      width: 32px;\n",
              "    }\n",
              "\n",
              "    .colab-df-convert:hover {\n",
              "      background-color: #E2EBFA;\n",
              "      box-shadow: 0px 1px 2px rgba(60, 64, 67, 0.3), 0px 1px 3px 1px rgba(60, 64, 67, 0.15);\n",
              "      fill: #174EA6;\n",
              "    }\n",
              "\n",
              "    [theme=dark] .colab-df-convert {\n",
              "      background-color: #3B4455;\n",
              "      fill: #D2E3FC;\n",
              "    }\n",
              "\n",
              "    [theme=dark] .colab-df-convert:hover {\n",
              "      background-color: #434B5C;\n",
              "      box-shadow: 0px 1px 3px 1px rgba(0, 0, 0, 0.15);\n",
              "      filter: drop-shadow(0px 1px 2px rgba(0, 0, 0, 0.3));\n",
              "      fill: #FFFFFF;\n",
              "    }\n",
              "  </style>\n",
              "\n",
              "      <script>\n",
              "        const buttonEl =\n",
              "          document.querySelector('#df-17f8437a-3f7c-4cb3-80a1-4afd8efcf44a button.colab-df-convert');\n",
              "        buttonEl.style.display =\n",
              "          google.colab.kernel.accessAllowed ? 'block' : 'none';\n",
              "\n",
              "        async function convertToInteractive(key) {\n",
              "          const element = document.querySelector('#df-17f8437a-3f7c-4cb3-80a1-4afd8efcf44a');\n",
              "          const dataTable =\n",
              "            await google.colab.kernel.invokeFunction('convertToInteractive',\n",
              "                                                     [key], {});\n",
              "          if (!dataTable) return;\n",
              "\n",
              "          const docLinkHtml = 'Like what you see? Visit the ' +\n",
              "            '<a target=\"_blank\" href=https://colab.research.google.com/notebooks/data_table.ipynb>data table notebook</a>'\n",
              "            + ' to learn more about interactive tables.';\n",
              "          element.innerHTML = '';\n",
              "          dataTable['output_type'] = 'display_data';\n",
              "          await google.colab.output.renderOutput(dataTable, element);\n",
              "          const docLink = document.createElement('div');\n",
              "          docLink.innerHTML = docLinkHtml;\n",
              "          element.appendChild(docLink);\n",
              "        }\n",
              "      </script>\n",
              "    </div>\n",
              "  </div>\n",
              "  "
            ]
          },
          "metadata": {},
          "execution_count": 49
        }
      ]
    },
    {
      "cell_type": "code",
      "source": [
        "result.to_csv(\"/content/gdrive/MyDrive/Related work QG/Results/errors/no_question_results.csv\",index=False)"
      ],
      "metadata": {
        "id": "pq4k4HCgcZIE"
      },
      "execution_count": null,
      "outputs": []
    },
    {
      "cell_type": "code",
      "source": [
        "import seaborn as sns\n",
        "sns.set_theme(style=\"whitegrid\")\n",
        "\n",
        "g = sns.catplot(\n",
        "    data=result, y=\"settings\", x=\"no_question_numbers\", col=\"model\",\n",
        "    kind=\"bar\"\n",
        ")\n",
        "#g.set_axis_labels(\"\", \"Survival Rate\")\n",
        "#g.set_xticklabels([\"Men\", \"Women\", \"Children\"])\n",
        "#g.set_titles(\"Banglat5\",\"MT5\")\n",
        "#g.set(ylim=(0, 1))\n",
        "#g.despine(left=True)\n",
        "#g.savefig(\"/content/gdrive/MyDrive/Related work QG/Results/errors/no_question_results.png\")\n",
        "g.savefig(\"no_question_generation.png\")"
      ],
      "metadata": {
        "colab": {
          "base_uri": "https://localhost:8080/",
          "height": 365
        },
        "id": "dWLC4hhmcSuX",
        "outputId": "570ca614-86f1-4aca-894b-eed7e83bf544"
      },
      "execution_count": null,
      "outputs": [
        {
          "output_type": "display_data",
          "data": {
            "text/plain": [
              "<Figure size 720x360 with 2 Axes>"
            ],
            "image/png": "[encoded data removed]"
          },
          "metadata": {}
        }
      ]
    },
    {
      "cell_type": "markdown",
      "source": [
        "# Results Getting"
      ],
      "metadata": {
        "id": "G6F9hjqZX8bR"
      }
    },
    {
      "cell_type": "code",
      "execution_count": null,
      "metadata": {
        "colab": {
          "base_uri": "https://localhost:8080/"
        },
        "id": "KumCzdPYInCv",
        "outputId": "77e13bf0-b086-4717-b8ba-9dc89b23c7b2"
      },
      "outputs": [
        {
          "output_type": "stream",
          "name": "stdout",
          "text": [
            "Mounted at /content/gdrive/\n"
          ]
        }
      ],
      "source": [
        "from google.colab import drive\n",
        "\n",
        "drive.mount('/content/gdrive/', force_remount=True)"
      ]
    },
    {
      "cell_type": "code",
      "source": [
        "import pandas as pd"
      ],
      "metadata": {
        "id": "eIJV1dFvI3ct"
      },
      "execution_count": null,
      "outputs": []
    },
    {
      "cell_type": "code",
      "source": [
        "df = pd.read_excel(\"/content/gdrive/MyDrive/Related work QG/Results/banglat5-v1/greedy_banglat5(3).xlsx\")"
      ],
      "metadata": {
        "id": "YDFkeCTbJaI4"
      },
      "execution_count": null,
      "outputs": []
    },
    {
      "cell_type": "code",
      "source": [
        "df.head()"
      ],
      "metadata": {
        "colab": {
          "base_uri": "https://localhost:8080/",
          "height": 206
        },
        "id": "buPpPERxJm5n",
        "outputId": "54222d29-2a6f-41ed-aca2-53212fb102cf"
      },
      "execution_count": null,
      "outputs": [
        {
          "output_type": "execute_result",
          "data": {
            "text/plain": [
              "                                  Reference_question  \\\n",
              "0  কখন আইইসি রেড বুক সিডি-ডিএকে একটি আন্তর্জাতিক ...   \n",
              "1  ১৯৭৯ সালের সনি এবং ফিলিপস ডিজিটাল অডিও ডিস্ক ট...   \n",
              "2       কারা প্রথম সিডিতে দশ লক্ষ কপি বিক্রি করেছিল?   \n",
              "3  কোন শিল্পী তাদের সম্পূর্ণ ক্যাটালগকে সিডিতে রূ...   \n",
              "4  আর্মস-এ ডায়ার স্ট্রেইটস অ্যালবাম ব্রাদার্স কো...   \n",
              "\n",
              "                                  Predicted_question  \\\n",
              "0  কোন বছর রেড বুক সিডি-ডিএ স্ট্যান্ডার্ড আনুষ্ঠা...   \n",
              "1                      কে এই গবেষণা পরিচালনা করেছিল?   \n",
              "2  ১৯৮৫ সালে প্রথম কোন শিল্পী এক মিলিয়ন কপি সিডি...   \n",
              "3  কে প্রথম প্রধান শিল্পী হিসেবে তার সম্পূর্ণ ক্য...   \n",
              "4  কোন বছর ডাইর স্ট্রেইটসের অ্যালবাম ব্রাদার্স ইন...   \n",
              "\n",
              "                                Answer  \\\n",
              "0                                 ১৯৮৭   \n",
              "1  কিস শুহামার ইমমিনক এবং তোশিতাদা দোই   \n",
              "2                       ডাইর স্ট্রেইটস   \n",
              "3                          ডেভিড বোয়ি   \n",
              "4                                 ১৯৮৫   \n",
              "\n",
              "                                             Context  \n",
              "0  ফলস্বরূপ, ১৯৭৯ সালে, সনি এবং ফিলিপস একটি নতুন ...  \n",
              "1  ফলস্বরূপ, ১৯৭৯ সালে, সনি এবং ফিলিপস একটি নতুন ...  \n",
              "2  ১৯৮৩ সালের মার্চ মাসে ইউরোপ ও উত্তর আমেরিকায় ...  \n",
              "3  ১৯৮৩ সালের মার্চ মাসে ইউরোপ ও উত্তর আমেরিকায় ...  \n",
              "4  ১৯৮৩ সালের মার্চ মাসে ইউরোপ ও উত্তর আমেরিকায় ...  "
            ],
            "text/html": [
              "\n",
              "  <div id=\"df-25800172-2a72-45fc-81b6-bb708f796c29\">\n",
              "    <div class=\"colab-df-container\">\n",
              "      <div>\n",
              "<style scoped>\n",
              "    .dataframe tbody tr th:only-of-type {\n",
              "        vertical-align: middle;\n",
              "    }\n",
              "\n",
              "    .dataframe tbody tr th {\n",
              "        vertical-align: top;\n",
              "    }\n",
              "\n",
              "    .dataframe thead th {\n",
              "        text-align: right;\n",
              "    }\n",
              "</style>\n",
              "<table border=\"1\" class=\"dataframe\">\n",
              "  <thead>\n",
              "    <tr style=\"text-align: right;\">\n",
              "      <th></th>\n",
              "      <th>Reference_question</th>\n",
              "      <th>Predicted_question</th>\n",
              "      <th>Answer</th>\n",
              "      <th>Context</th>\n",
              "    </tr>\n",
              "  </thead>\n",
              "  <tbody>\n",
              "    <tr>\n",
              "      <th>0</th>\n",
              "      <td>কখন আইইসি রেড বুক সিডি-ডিএকে একটি আন্তর্জাতিক ...</td>\n",
              "      <td>কোন বছর রেড বুক সিডি-ডিএ স্ট্যান্ডার্ড আনুষ্ঠা...</td>\n",
              "      <td>১৯৮৭</td>\n",
              "      <td>ফলস্বরূপ, ১৯৭৯ সালে, সনি এবং ফিলিপস একটি নতুন ...</td>\n",
              "    </tr>\n",
              "    <tr>\n",
              "      <th>1</th>\n",
              "      <td>১৯৭৯ সালের সনি এবং ফিলিপস ডিজিটাল অডিও ডিস্ক ট...</td>\n",
              "      <td>কে এই গবেষণা পরিচালনা করেছিল?</td>\n",
              "      <td>কিস শুহামার ইমমিনক এবং তোশিতাদা দোই</td>\n",
              "      <td>ফলস্বরূপ, ১৯৭৯ সালে, সনি এবং ফিলিপস একটি নতুন ...</td>\n",
              "    </tr>\n",
              "    <tr>\n",
              "      <th>2</th>\n",
              "      <td>কারা প্রথম সিডিতে দশ লক্ষ কপি বিক্রি করেছিল?</td>\n",
              "      <td>১৯৮৫ সালে প্রথম কোন শিল্পী এক মিলিয়ন কপি সিডি...</td>\n",
              "      <td>ডাইর স্ট্রেইটস</td>\n",
              "      <td>১৯৮৩ সালের মার্চ মাসে ইউরোপ ও উত্তর আমেরিকায় ...</td>\n",
              "    </tr>\n",
              "    <tr>\n",
              "      <th>3</th>\n",
              "      <td>কোন শিল্পী তাদের সম্পূর্ণ ক্যাটালগকে সিডিতে রূ...</td>\n",
              "      <td>কে প্রথম প্রধান শিল্পী হিসেবে তার সম্পূর্ণ ক্য...</td>\n",
              "      <td>ডেভিড বোয়ি</td>\n",
              "      <td>১৯৮৩ সালের মার্চ মাসে ইউরোপ ও উত্তর আমেরিকায় ...</td>\n",
              "    </tr>\n",
              "    <tr>\n",
              "      <th>4</th>\n",
              "      <td>আর্মস-এ ডায়ার স্ট্রেইটস অ্যালবাম ব্রাদার্স কো...</td>\n",
              "      <td>কোন বছর ডাইর স্ট্রেইটসের অ্যালবাম ব্রাদার্স ইন...</td>\n",
              "      <td>১৯৮৫</td>\n",
              "      <td>১৯৮৩ সালের মার্চ মাসে ইউরোপ ও উত্তর আমেরিকায় ...</td>\n",
              "    </tr>\n",
              "  </tbody>\n",
              "</table>\n",
              "</div>\n",
              "      <button class=\"colab-df-convert\" onclick=\"convertToInteractive('df-25800172-2a72-45fc-81b6-bb708f796c29')\"\n",
              "              title=\"Convert this dataframe to an interactive table.\"\n",
              "              style=\"display:none;\">\n",
              "        \n",
              "  <svg xmlns=\"http://www.w3.org/2000/svg\" height=\"24px\"viewBox=\"0 0 24 24\"\n",
              "       width=\"24px\">\n",
              "    <path d=\"M0 0h24v24H0V0z\" fill=\"none\"/>\n",
              "    <path d=\"M18.56 5.44l.94 2.06.94-2.06 2.06-.94-2.06-.94-.94-2.06-.94 2.06-2.06.94zm-11 1L8.5 8.5l.94-2.06 2.06-.94-2.06-.94L8.5 2.5l-.94 2.06-2.06.94zm10 10l.94 2.06.94-2.06 2.06-.94-2.06-.94-.94-2.06-.94 2.06-2.06.94z\"/><path d=\"M17.41 7.96l-1.37-1.37c-.4-.4-.92-.59-1.43-.59-.52 0-1.04.2-1.43.59L10.3 9.45l-7.72 7.72c-.78.78-.78 2.05 0 2.83L4 21.41c.39.39.9.59 1.41.59.51 0 1.02-.2 1.41-.59l7.78-7.78 2.81-2.81c.8-.78.8-2.07 0-2.86zM5.41 20L4 18.59l7.72-7.72 1.47 1.35L5.41 20z\"/>\n",
              "  </svg>\n",
              "      </button>\n",
              "      \n",
              "  <style>\n",
              "    .colab-df-container {\n",
              "      display:flex;\n",
              "      flex-wrap:wrap;\n",
              "      gap: 12px;\n",
              "    }\n",
              "\n",
              "    .colab-df-convert {\n",
              "      background-color: #E8F0FE;\n",
              "      border: none;\n",
              "      border-radius: 50%;\n",
              "      cursor: pointer;\n",
              "      display: none;\n",
              "      fill: #1967D2;\n",
              "      height: 32px;\n",
              "      padding: 0 0 0 0;\n",
              "      width: 32px;\n",
              "    }\n",
              "\n",
              "    .colab-df-convert:hover {\n",
              "      background-color: #E2EBFA;\n",
              "      box-shadow: 0px 1px 2px rgba(60, 64, 67, 0.3), 0px 1px 3px 1px rgba(60, 64, 67, 0.15);\n",
              "      fill: #174EA6;\n",
              "    }\n",
              "\n",
              "    [theme=dark] .colab-df-convert {\n",
              "      background-color: #3B4455;\n",
              "      fill: #D2E3FC;\n",
              "    }\n",
              "\n",
              "    [theme=dark] .colab-df-convert:hover {\n",
              "      background-color: #434B5C;\n",
              "      box-shadow: 0px 1px 3px 1px rgba(0, 0, 0, 0.15);\n",
              "      filter: drop-shadow(0px 1px 2px rgba(0, 0, 0, 0.3));\n",
              "      fill: #FFFFFF;\n",
              "    }\n",
              "  </style>\n",
              "\n",
              "      <script>\n",
              "        const buttonEl =\n",
              "          document.querySelector('#df-25800172-2a72-45fc-81b6-bb708f796c29 button.colab-df-convert');\n",
              "        buttonEl.style.display =\n",
              "          google.colab.kernel.accessAllowed ? 'block' : 'none';\n",
              "\n",
              "        async function convertToInteractive(key) {\n",
              "          const element = document.querySelector('#df-25800172-2a72-45fc-81b6-bb708f796c29');\n",
              "          const dataTable =\n",
              "            await google.colab.kernel.invokeFunction('convertToInteractive',\n",
              "                                                     [key], {});\n",
              "          if (!dataTable) return;\n",
              "\n",
              "          const docLinkHtml = 'Like what you see? Visit the ' +\n",
              "            '<a target=\"_blank\" href=https://colab.research.google.com/notebooks/data_table.ipynb>data table notebook</a>'\n",
              "            + ' to learn more about interactive tables.';\n",
              "          element.innerHTML = '';\n",
              "          dataTable['output_type'] = 'display_data';\n",
              "          await google.colab.output.renderOutput(dataTable, element);\n",
              "          const docLink = document.createElement('div');\n",
              "          docLink.innerHTML = docLinkHtml;\n",
              "          element.appendChild(docLink);\n",
              "        }\n",
              "      </script>\n",
              "    </div>\n",
              "  </div>\n",
              "  "
            ]
          },
          "metadata": {},
          "execution_count": 4
        }
      ]
    },
    {
      "cell_type": "code",
      "source": [
        "no_question_reference = df['Reference_question'].str.contains('?',regex = False)"
      ],
      "metadata": {
        "id": "lQwStxylMd9V"
      },
      "execution_count": null,
      "outputs": []
    },
    {
      "cell_type": "code",
      "source": [
        "df['Reference_question'].str.contains('?',regex = False).value_counts()"
      ],
      "metadata": {
        "colab": {
          "base_uri": "https://localhost:8080/"
        },
        "id": "yQqwSconL7kT",
        "outputId": "a011c454-38ca-447c-ef0c-b3d8315d193b"
      },
      "execution_count": null,
      "outputs": [
        {
          "output_type": "execute_result",
          "data": {
            "text/plain": [
              "True     13472\n",
              "False       66\n",
              "Name: Reference_question, dtype: int64"
            ]
          },
          "metadata": {},
          "execution_count": 6
        }
      ]
    },
    {
      "cell_type": "code",
      "source": [
        "df[no_question_reference == False]"
      ],
      "metadata": {
        "colab": {
          "base_uri": "https://localhost:8080/",
          "height": 468
        },
        "id": "sD9ETMkcMa1x",
        "outputId": "80068b48-923f-45d7-9a4b-9d560f035851"
      },
      "execution_count": null,
      "outputs": [
        {
          "output_type": "execute_result",
          "data": {
            "text/plain": [
              "                                      Reference_question  \\\n",
              "102                                ফিটসের দলগুলোর নাম কি   \n",
              "162    আমেরিকায় প্রতিষ্ঠিত আদিবাসী আমেরিকানদের একটি ...   \n",
              "165                     চীনে নগরায়নের অন্যতম একটি কারণ।   \n",
              "226    এমন এক ঘটনার নাম বলুন, যা বিপ্লবে অবদান রাখতে ...   \n",
              "266    নিউটনের দর্শন যখন জীবনে প্রয়োগ করা হয় তখন কি...   \n",
              "...                                                  ...   \n",
              "10420         মন্টানায় রেলপথ কতদিন ধরে গুরুত্বপূর্ণ ছিল   \n",
              "10459  কি বছরের মধ্যে আদিবাসী জনসংখ্যা ২৭.৯% বৃদ্ধি প...   \n",
              "10498  যিনি ১৯০০-এর দশকের প্রথম দিকে মন্টানায় বসতি স...   \n",
              "11179  বিপন্ন প্রজাতির কত শতাংশ হাঁস-স্ট্যাম্প ফান্ড ...   \n",
              "11195  যে কারণে আরবের অরিক্স ধ্বংস হয়ে গেছে, গতির এক...   \n",
              "\n",
              "                                      Predicted_question  \\\n",
              "102            আইজিএফইটি কোন দুটি পরিবারের মধ্যে বিভক্ত?   \n",
              "162    আমেরিকার নেটিভ আমেরিকানরা কোন সাম্রাজ্য তৈরি ক...   \n",
              "165      চীনের নগরায়ণের সঙ্গে সঙ্গে কী বৃদ্ধি পেয়েছিল?   \n",
              "226                বিপ্লবের পর কোন যুদ্ধ সংঘটিত হয়েছিল?   \n",
              "266         প্রাকৃতিক দর্শন ব্যবহার করার ফলে কী হয়েছিল?   \n",
              "...                                                  ...   \n",
              "10420  কোন্ দশকে রেলপথ মন্টানায় পরিবহনকে এক গুরুত্বপ...   \n",
              "10459  কোন বছরগুলোতে মন্টানার আদিবাসী জনসংখ্যা ২৭.৯ শ...   \n",
              "10498      মন্টানা প্রাইরিতে কে বসতি স্থাপন শুরু করেছিল?   \n",
              "11179  হাঁসের স্ট্যাম্প তহবিল ব্যবহার করে বিপন্ন প্রজ...   \n",
              "11195  কোন দুটো বিষয় আরব ওরিক্সকে বিলুপ্ত করে দিয়েছিল?   \n",
              "\n",
              "                                                  Answer  \\\n",
              "102             জংশন ফিট (জেএফইটি) এবং ইনসুলেটেড গেট ফিট   \n",
              "162                                   অ্যাজটেক সাম্রাজ্য   \n",
              "165                                      জনসংখ্যা বৃদ্ধি   \n",
              "226                                    নেপোলিয়নের যুদ্ধ   \n",
              "266    সামাজিক নীতি পরিবর্তনের জন্য বেশ কয়েকটি সফল প...   \n",
              "...                                                  ...   \n",
              "10420                                        ১৮৮০-এর দশক   \n",
              "10459                                     ১৯৮০ থেকে ১৯৯০   \n",
              "10498                                       জেমস জে. হিল   \n",
              "11179                                       এক তৃতীয়াংশ   \n",
              "11195          অটোমোবাইল এবং উচ্চ-চালিত রাইফেলের ব্যবহার   \n",
              "\n",
              "                                                 Context  \n",
              "102    ফিট দুটি পরিবারে বিভক্ত: জংশন ফিট (জেএফইটি) এব...  \n",
              "162    এশিয়াতে বিভিন্ন চীনা রাজবংশ ও জাপানি শোগুনেট ...  \n",
              "165    চীনে জনসংখ্যা বৃদ্ধির সাথে সাথে নগরায়ণ বৃদ্ধি...  \n",
              "226    এই পরিবর্তনগুলোর সঙ্গে ছিল ভয়াবহ বিশৃঙ্খলা, য...  \n",
              "266    আলোকায়নের ধারণা অনুসরণ করে, সংস্কারকরা শিল্প ...  \n",
              "...                                                  ...  \n",
              "10420  ১৮৮০-এর দশক থেকে রেলপথ মন্টানায় পরিবহনের একটি...  \n",
              "10459  মার্কিন যুক্তরাষ্ট্রের অধিকাংশ রাজ্যের তুলনায়...  \n",
              "10498  ১৯০০ সালের প্রথম দিকে, গ্রেট নর্দানের জেমস জে....  \n",
              "11179  ১৯৩৪ সালের ১৬ মার্চ প্রেসিডেন্ট ফ্রাঙ্কলিন ডি....  \n",
              "11195  আরব ওরিক্স, বৃহৎ হরিণের একটি প্রজাতি, এক সময় ...  \n",
              "\n",
              "[66 rows x 4 columns]"
            ],
            "text/html": [
              "\n",
              "  <div id=\"df-d6477032-0b36-4aa2-b26f-815588d699d1\">\n",
              "    <div class=\"colab-df-container\">\n",
              "      <div>\n",
              "<style scoped>\n",
              "    .dataframe tbody tr th:only-of-type {\n",
              "        vertical-align: middle;\n",
              "    }\n",
              "\n",
              "    .dataframe tbody tr th {\n",
              "        vertical-align: top;\n",
              "    }\n",
              "\n",
              "    .dataframe thead th {\n",
              "        text-align: right;\n",
              "    }\n",
              "</style>\n",
              "<table border=\"1\" class=\"dataframe\">\n",
              "  <thead>\n",
              "    <tr style=\"text-align: right;\">\n",
              "      <th></th>\n",
              "      <th>Reference_question</th>\n",
              "      <th>Predicted_question</th>\n",
              "      <th>Answer</th>\n",
              "      <th>Context</th>\n",
              "    </tr>\n",
              "  </thead>\n",
              "  <tbody>\n",
              "    <tr>\n",
              "      <th>102</th>\n",
              "      <td>ফিটসের দলগুলোর নাম কি</td>\n",
              "      <td>আইজিএফইটি কোন দুটি পরিবারের মধ্যে বিভক্ত?</td>\n",
              "      <td>জংশন ফিট (জেএফইটি) এবং ইনসুলেটেড গেট ফিট</td>\n",
              "      <td>ফিট দুটি পরিবারে বিভক্ত: জংশন ফিট (জেএফইটি) এব...</td>\n",
              "    </tr>\n",
              "    <tr>\n",
              "      <th>162</th>\n",
              "      <td>আমেরিকায় প্রতিষ্ঠিত আদিবাসী আমেরিকানদের একটি ...</td>\n",
              "      <td>আমেরিকার নেটিভ আমেরিকানরা কোন সাম্রাজ্য তৈরি ক...</td>\n",
              "      <td>অ্যাজটেক সাম্রাজ্য</td>\n",
              "      <td>এশিয়াতে বিভিন্ন চীনা রাজবংশ ও জাপানি শোগুনেট ...</td>\n",
              "    </tr>\n",
              "    <tr>\n",
              "      <th>165</th>\n",
              "      <td>চীনে নগরায়নের অন্যতম একটি কারণ।</td>\n",
              "      <td>চীনের নগরায়ণের সঙ্গে সঙ্গে কী বৃদ্ধি পেয়েছিল?</td>\n",
              "      <td>জনসংখ্যা বৃদ্ধি</td>\n",
              "      <td>চীনে জনসংখ্যা বৃদ্ধির সাথে সাথে নগরায়ণ বৃদ্ধি...</td>\n",
              "    </tr>\n",
              "    <tr>\n",
              "      <th>226</th>\n",
              "      <td>এমন এক ঘটনার নাম বলুন, যা বিপ্লবে অবদান রাখতে ...</td>\n",
              "      <td>বিপ্লবের পর কোন যুদ্ধ সংঘটিত হয়েছিল?</td>\n",
              "      <td>নেপোলিয়নের যুদ্ধ</td>\n",
              "      <td>এই পরিবর্তনগুলোর সঙ্গে ছিল ভয়াবহ বিশৃঙ্খলা, য...</td>\n",
              "    </tr>\n",
              "    <tr>\n",
              "      <th>266</th>\n",
              "      <td>নিউটনের দর্শন যখন জীবনে প্রয়োগ করা হয় তখন কি...</td>\n",
              "      <td>প্রাকৃতিক দর্শন ব্যবহার করার ফলে কী হয়েছিল?</td>\n",
              "      <td>সামাজিক নীতি পরিবর্তনের জন্য বেশ কয়েকটি সফল প...</td>\n",
              "      <td>আলোকায়নের ধারণা অনুসরণ করে, সংস্কারকরা শিল্প ...</td>\n",
              "    </tr>\n",
              "    <tr>\n",
              "      <th>...</th>\n",
              "      <td>...</td>\n",
              "      <td>...</td>\n",
              "      <td>...</td>\n",
              "      <td>...</td>\n",
              "    </tr>\n",
              "    <tr>\n",
              "      <th>10420</th>\n",
              "      <td>মন্টানায় রেলপথ কতদিন ধরে গুরুত্বপূর্ণ ছিল</td>\n",
              "      <td>কোন্ দশকে রেলপথ মন্টানায় পরিবহনকে এক গুরুত্বপ...</td>\n",
              "      <td>১৮৮০-এর দশক</td>\n",
              "      <td>১৮৮০-এর দশক থেকে রেলপথ মন্টানায় পরিবহনের একটি...</td>\n",
              "    </tr>\n",
              "    <tr>\n",
              "      <th>10459</th>\n",
              "      <td>কি বছরের মধ্যে আদিবাসী জনসংখ্যা ২৭.৯% বৃদ্ধি প...</td>\n",
              "      <td>কোন বছরগুলোতে মন্টানার আদিবাসী জনসংখ্যা ২৭.৯ শ...</td>\n",
              "      <td>১৯৮০ থেকে ১৯৯০</td>\n",
              "      <td>মার্কিন যুক্তরাষ্ট্রের অধিকাংশ রাজ্যের তুলনায়...</td>\n",
              "    </tr>\n",
              "    <tr>\n",
              "      <th>10498</th>\n",
              "      <td>যিনি ১৯০০-এর দশকের প্রথম দিকে মন্টানায় বসতি স...</td>\n",
              "      <td>মন্টানা প্রাইরিতে কে বসতি স্থাপন শুরু করেছিল?</td>\n",
              "      <td>জেমস জে. হিল</td>\n",
              "      <td>১৯০০ সালের প্রথম দিকে, গ্রেট নর্দানের জেমস জে....</td>\n",
              "    </tr>\n",
              "    <tr>\n",
              "      <th>11179</th>\n",
              "      <td>বিপন্ন প্রজাতির কত শতাংশ হাঁস-স্ট্যাম্প ফান্ড ...</td>\n",
              "      <td>হাঁসের স্ট্যাম্প তহবিল ব্যবহার করে বিপন্ন প্রজ...</td>\n",
              "      <td>এক তৃতীয়াংশ</td>\n",
              "      <td>১৯৩৪ সালের ১৬ মার্চ প্রেসিডেন্ট ফ্রাঙ্কলিন ডি....</td>\n",
              "    </tr>\n",
              "    <tr>\n",
              "      <th>11195</th>\n",
              "      <td>যে কারণে আরবের অরিক্স ধ্বংস হয়ে গেছে, গতির এক...</td>\n",
              "      <td>কোন দুটো বিষয় আরব ওরিক্সকে বিলুপ্ত করে দিয়েছিল?</td>\n",
              "      <td>অটোমোবাইল এবং উচ্চ-চালিত রাইফেলের ব্যবহার</td>\n",
              "      <td>আরব ওরিক্স, বৃহৎ হরিণের একটি প্রজাতি, এক সময় ...</td>\n",
              "    </tr>\n",
              "  </tbody>\n",
              "</table>\n",
              "<p>66 rows × 4 columns</p>\n",
              "</div>\n",
              "      <button class=\"colab-df-convert\" onclick=\"convertToInteractive('df-d6477032-0b36-4aa2-b26f-815588d699d1')\"\n",
              "              title=\"Convert this dataframe to an interactive table.\"\n",
              "              style=\"display:none;\">\n",
              "        \n",
              "  <svg xmlns=\"http://www.w3.org/2000/svg\" height=\"24px\"viewBox=\"0 0 24 24\"\n",
              "       width=\"24px\">\n",
              "    <path d=\"M0 0h24v24H0V0z\" fill=\"none\"/>\n",
              "    <path d=\"M18.56 5.44l.94 2.06.94-2.06 2.06-.94-2.06-.94-.94-2.06-.94 2.06-2.06.94zm-11 1L8.5 8.5l.94-2.06 2.06-.94-2.06-.94L8.5 2.5l-.94 2.06-2.06.94zm10 10l.94 2.06.94-2.06 2.06-.94-2.06-.94-.94-2.06-.94 2.06-2.06.94z\"/><path d=\"M17.41 7.96l-1.37-1.37c-.4-.4-.92-.59-1.43-.59-.52 0-1.04.2-1.43.59L10.3 9.45l-7.72 7.72c-.78.78-.78 2.05 0 2.83L4 21.41c.39.39.9.59 1.41.59.51 0 1.02-.2 1.41-.59l7.78-7.78 2.81-2.81c.8-.78.8-2.07 0-2.86zM5.41 20L4 18.59l7.72-7.72 1.47 1.35L5.41 20z\"/>\n",
              "  </svg>\n",
              "      </button>\n",
              "      \n",
              "  <style>\n",
              "    .colab-df-container {\n",
              "      display:flex;\n",
              "      flex-wrap:wrap;\n",
              "      gap: 12px;\n",
              "    }\n",
              "\n",
              "    .colab-df-convert {\n",
              "      background-color: #E8F0FE;\n",
              "      border: none;\n",
              "      border-radius: 50%;\n",
              "      cursor: pointer;\n",
              "      display: none;\n",
              "      fill: #1967D2;\n",
              "      height: 32px;\n",
              "      padding: 0 0 0 0;\n",
              "      width: 32px;\n",
              "    }\n",
              "\n",
              "    .colab-df-convert:hover {\n",
              "      background-color: #E2EBFA;\n",
              "      box-shadow: 0px 1px 2px rgba(60, 64, 67, 0.3), 0px 1px 3px 1px rgba(60, 64, 67, 0.15);\n",
              "      fill: #174EA6;\n",
              "    }\n",
              "\n",
              "    [theme=dark] .colab-df-convert {\n",
              "      background-color: #3B4455;\n",
              "      fill: #D2E3FC;\n",
              "    }\n",
              "\n",
              "    [theme=dark] .colab-df-convert:hover {\n",
              "      background-color: #434B5C;\n",
              "      box-shadow: 0px 1px 3px 1px rgba(0, 0, 0, 0.15);\n",
              "      filter: drop-shadow(0px 1px 2px rgba(0, 0, 0, 0.3));\n",
              "      fill: #FFFFFF;\n",
              "    }\n",
              "  </style>\n",
              "\n",
              "      <script>\n",
              "        const buttonEl =\n",
              "          document.querySelector('#df-d6477032-0b36-4aa2-b26f-815588d699d1 button.colab-df-convert');\n",
              "        buttonEl.style.display =\n",
              "          google.colab.kernel.accessAllowed ? 'block' : 'none';\n",
              "\n",
              "        async function convertToInteractive(key) {\n",
              "          const element = document.querySelector('#df-d6477032-0b36-4aa2-b26f-815588d699d1');\n",
              "          const dataTable =\n",
              "            await google.colab.kernel.invokeFunction('convertToInteractive',\n",
              "                                                     [key], {});\n",
              "          if (!dataTable) return;\n",
              "\n",
              "          const docLinkHtml = 'Like what you see? Visit the ' +\n",
              "            '<a target=\"_blank\" href=https://colab.research.google.com/notebooks/data_table.ipynb>data table notebook</a>'\n",
              "            + ' to learn more about interactive tables.';\n",
              "          element.innerHTML = '';\n",
              "          dataTable['output_type'] = 'display_data';\n",
              "          await google.colab.output.renderOutput(dataTable, element);\n",
              "          const docLink = document.createElement('div');\n",
              "          docLink.innerHTML = docLinkHtml;\n",
              "          element.appendChild(docLink);\n",
              "        }\n",
              "      </script>\n",
              "    </div>\n",
              "  </div>\n",
              "  "
            ]
          },
          "metadata": {},
          "execution_count": 7
        }
      ]
    },
    {
      "cell_type": "markdown",
      "source": [
        "# predicted"
      ],
      "metadata": {
        "id": "OzFRHf8jNkZG"
      }
    },
    {
      "cell_type": "markdown",
      "source": [
        "# Banglat5"
      ],
      "metadata": {
        "id": "f5StZ_0fOC7_"
      }
    },
    {
      "cell_type": "code",
      "source": [
        "import os"
      ],
      "metadata": {
        "id": "S0er6F1rOCeh"
      },
      "execution_count": null,
      "outputs": []
    },
    {
      "cell_type": "code",
      "source": [
        "dir_path = \"/content/gdrive/MyDrive/Related work QG/Results/banglat5-v1\""
      ],
      "metadata": {
        "id": "61Q0ilrmOE0l"
      },
      "execution_count": null,
      "outputs": []
    },
    {
      "cell_type": "code",
      "source": [
        "df_paths = os.listdir(dir_path)"
      ],
      "metadata": {
        "id": "LCD7IpWVULyF"
      },
      "execution_count": null,
      "outputs": []
    },
    {
      "cell_type": "code",
      "source": [
        "df_paths"
      ],
      "metadata": {
        "colab": {
          "base_uri": "https://localhost:8080/"
        },
        "id": "XOgp3mfNWzuy",
        "outputId": "cc372ab2-f45d-45d1-e148-919c41e84eb8"
      },
      "execution_count": null,
      "outputs": [
        {
          "output_type": "execute_result",
          "data": {
            "text/plain": [
              "['numbeams3_mT5small.xlsx',\n",
              " 'topk50_topp095_seq2_mt5_small.xlsx',\n",
              " 'topk90_topp095_mt5_small.xlsx',\n",
              " 'topk10_temp07_mt5_small.xlsx',\n",
              " 'numbeams5_mT5small.xlsx',\n",
              " 'numbeams7_mT5small.xlsx',\n",
              " 'numbeams10_mT5small.xlsx',\n",
              " 'topp1_temperature095_mt5_small (1).xlsx',\n",
              " 'greedy_mt5small.xlsx']"
            ]
          },
          "metadata": {},
          "execution_count": 39
        }
      ]
    },
    {
      "cell_type": "code",
      "source": [
        "dfs = []\n",
        "for path in df_paths:\n",
        "  dfs.append(pd.read_excel(os.path.join(dir_path,path)))"
      ],
      "metadata": {
        "id": "JxUKJXHpUQZX"
      },
      "execution_count": null,
      "outputs": []
    },
    {
      "cell_type": "code",
      "source": [
        "error_dfs = []\n",
        "no_question_stats = {}\n",
        "for i in range(len(df_paths)):\n",
        "  no_question_predicted = dfs[i]['Predicted_question'].str.contains('?',regex = False)\n",
        "  false_counts = no_question_predicted.value_counts()[0]\n",
        "  no_question_stats[df_paths[i]] = false_counts\n",
        "  error_dfs.append(dfs[i][no_question_predicted==False])  "
      ],
      "metadata": {
        "id": "AEqkEAtvUjrc"
      },
      "execution_count": null,
      "outputs": []
    },
    {
      "cell_type": "code",
      "source": [
        "no_question_stats"
      ],
      "metadata": {
        "colab": {
          "base_uri": "https://localhost:8080/"
        },
        "id": "8yyEnhTKVHdE",
        "outputId": "3276c81a-b92d-40fe-9166-51985787474f"
      },
      "execution_count": null,
      "outputs": [
        {
          "output_type": "execute_result",
          "data": {
            "text/plain": [
              "{'numbeams3_mT5small.xlsx': 184,\n",
              " 'topk50_topp095_seq2_mt5_small.xlsx': 230,\n",
              " 'topk90_topp095_mt5_small.xlsx': 201,\n",
              " 'topk10_temp07_mt5_small.xlsx': 103,\n",
              " 'numbeams5_mT5small.xlsx': 225,\n",
              " 'numbeams7_mT5small.xlsx': 250,\n",
              " 'numbeams10_mT5small.xlsx': 297,\n",
              " 'topp1_temperature095_mt5_small (1).xlsx': 173,\n",
              " 'greedy_mt5small.xlsx': 154}"
            ]
          },
          "metadata": {},
          "execution_count": 42
        }
      ]
    },
    {
      "cell_type": "code",
      "source": [
        "bangla_t5_errors = pd.concat(error_dfs,axis=0)"
      ],
      "metadata": {
        "id": "qofIH8m6VzaN"
      },
      "execution_count": null,
      "outputs": []
    },
    {
      "cell_type": "code",
      "source": [
        "bangla_t5_errors.to_csv(\"/content/gdrive/MyDrive/Related work QG/Results/mt5t5errors.csv\",index=False)"
      ],
      "metadata": {
        "id": "cYFNDyqAWVpD"
      },
      "execution_count": null,
      "outputs": []
    },
    {
      "cell_type": "code",
      "source": [
        "dir_path = \"/content/gdrive/MyDrive/Related work QG/Results/mt5-small-v1\""
      ],
      "metadata": {
        "id": "gTIJHyn-NzUH"
      },
      "execution_count": null,
      "outputs": []
    },
    {
      "cell_type": "code",
      "source": [],
      "metadata": {
        "id": "tJCdET_TWvZs"
      },
      "execution_count": null,
      "outputs": []
    },
    {
      "cell_type": "markdown",
      "source": [
        "# Interrogative distribution"
      ],
      "metadata": {
        "id": "U-ycTZZ6gKqf"
      }
    },
    {
      "cell_type": "code",
      "source": [
        "interrogatives = ['কি','কেন','কোথায়','কিভাবে','কখন','কে','কার']"
      ],
      "metadata": {
        "id": "TyOwx4fKgMNJ"
      },
      "execution_count": null,
      "outputs": []
    },
    {
      "cell_type": "code",
      "source": [
        "bt5_greedy = pd.read_excel(\"/content/gdrive/MyDrive/Related work QG/Results/banglat5-v1/greedy_banglat5(3).xlsx\")"
      ],
      "metadata": {
        "id": "_RRIRCckgcJI"
      },
      "execution_count": null,
      "outputs": []
    },
    {
      "cell_type": "code",
      "source": [
        "mt5_greedy = pd.read_excel(\"/content/gdrive/MyDrive/Related work QG/Results/mt5-small-v1/greedy_mt5small.xlsx\")"
      ],
      "metadata": {
        "id": "-q-mIWjsmKew"
      },
      "execution_count": null,
      "outputs": []
    },
    {
      "cell_type": "code",
      "source": [
        "bt5_results = {'কি':0,'কেন':0,'কোথায়':0,'কিভাবে':0,'কখন':0,'কে':0,'কার':0}\n",
        "for question in bt5_greedy['Predicted_question']:\n",
        "  for interrogative in interrogatives:\n",
        "    if interrogative in question:\n",
        "      bt5_results[interrogative]+=1\n",
        "\n"
      ],
      "metadata": {
        "id": "3mKjaQBgmUON"
      },
      "execution_count": null,
      "outputs": []
    },
    {
      "cell_type": "code",
      "source": [
        "bt5_results"
      ],
      "metadata": {
        "colab": {
          "base_uri": "https://localhost:8080/"
        },
        "id": "5h3hsRPjnh6E",
        "outputId": "17ff4dd6-f53c-47fd-f88e-42e58ff00aab"
      },
      "execution_count": null,
      "outputs": [
        {
          "output_type": "execute_result",
          "data": {
            "text/plain": [
              "{'কি': 1224,\n",
              " 'কেন': 169,\n",
              " 'কোথায়': 0,\n",
              " 'কিভাবে': 4,\n",
              " 'কখন': 850,\n",
              " 'কে': 4210,\n",
              " 'কার': 1312}"
            ]
          },
          "metadata": {},
          "execution_count": 102
        }
      ]
    },
    {
      "cell_type": "code",
      "source": [
        "mt5_results = {'কি':0,'কেন':0,'কোথায়':0,'কিভাবে':0,'কখন':0,'কে':0,'কার':0}\n",
        "for question in mt5_greedy['Predicted_question']:\n",
        "  for interrogative in interrogatives:\n",
        "    if interrogative in question:\n",
        "      mt5_results[interrogative]+=1\n",
        "\n"
      ],
      "metadata": {
        "id": "avoo2xJsnjKI"
      },
      "execution_count": null,
      "outputs": []
    },
    {
      "cell_type": "code",
      "source": [
        "mt5_results"
      ],
      "metadata": {
        "colab": {
          "base_uri": "https://localhost:8080/"
        },
        "id": "SPGZgHovn2uL",
        "outputId": "614a62ee-ac63-42aa-f864-a8864e194ab4"
      },
      "execution_count": null,
      "outputs": [
        {
          "output_type": "execute_result",
          "data": {
            "text/plain": [
              "{'কি': 782,\n",
              " 'কেন': 164,\n",
              " 'কোথায়': 0,\n",
              " 'কিভাবে': 0,\n",
              " 'কখন': 582,\n",
              " 'কে': 3298,\n",
              " 'কার': 1253}"
            ]
          },
          "metadata": {},
          "execution_count": 104
        }
      ]
    },
    {
      "cell_type": "code",
      "source": [
        "df_interrogative = pd.DataFrame.from_dict({\"Interrogatives\":interrogatives,\"Number of Questions\":list(bt5_results.values())})"
      ],
      "metadata": {
        "id": "vQ6QHu-9n4EN"
      },
      "execution_count": null,
      "outputs": []
    },
    {
      "cell_type": "code",
      "source": [
        "df_interrogative['model'] = 'banglat5'"
      ],
      "metadata": {
        "id": "nqQWBzDeoRtb"
      },
      "execution_count": null,
      "outputs": []
    },
    {
      "cell_type": "code",
      "source": [
        "df_interrogative2 = pd.DataFrame.from_dict({\"Interrogatives\":interrogatives,\"Number of Questions\":list(mt5_results.values())})"
      ],
      "metadata": {
        "id": "KvYPAaXDoTzq"
      },
      "execution_count": null,
      "outputs": []
    },
    {
      "cell_type": "code",
      "source": [
        "df_interrogative2['model'] = 'mt5_small'"
      ],
      "metadata": {
        "id": "uJt-7bKYqYHW"
      },
      "execution_count": null,
      "outputs": []
    },
    {
      "cell_type": "code",
      "source": [
        "result_interrogative = pd.concat([df_interrogative,df_interrogative2],axis=0)"
      ],
      "metadata": {
        "id": "ef463-DCoYAO"
      },
      "execution_count": null,
      "outputs": []
    },
    {
      "cell_type": "code",
      "source": [
        "result_interrogative"
      ],
      "metadata": {
        "colab": {
          "base_uri": "https://localhost:8080/",
          "height": 488
        },
        "id": "rI_McvJOokcX",
        "outputId": "5ca84131-39c1-4712-fc61-16ae758ae39b"
      },
      "execution_count": null,
      "outputs": [
        {
          "output_type": "execute_result",
          "data": {
            "text/plain": [
              "  Interrogatives  Number of Questions      model\n",
              "0             কি                 1224   banglat5\n",
              "1            কেন                  169   banglat5\n",
              "2          কোথায়                    0   banglat5\n",
              "3         কিভাবে                    4   banglat5\n",
              "4            কখন                  850   banglat5\n",
              "5             কে                 4210   banglat5\n",
              "6            কার                 1312   banglat5\n",
              "0             কি                  782  mt5_small\n",
              "1            কেন                  164  mt5_small\n",
              "2          কোথায়                    0  mt5_small\n",
              "3         কিভাবে                    0  mt5_small\n",
              "4            কখন                  582  mt5_small\n",
              "5             কে                 3298  mt5_small\n",
              "6            কার                 1253  mt5_small"
            ],
            "text/html": [
              "\n",
              "  <div id=\"df-af01b156-dc45-4b4b-85b1-5e2aed443054\">\n",
              "    <div class=\"colab-df-container\">\n",
              "      <div>\n",
              "<style scoped>\n",
              "    .dataframe tbody tr th:only-of-type {\n",
              "        vertical-align: middle;\n",
              "    }\n",
              "\n",
              "    .dataframe tbody tr th {\n",
              "        vertical-align: top;\n",
              "    }\n",
              "\n",
              "    .dataframe thead th {\n",
              "        text-align: right;\n",
              "    }\n",
              "</style>\n",
              "<table border=\"1\" class=\"dataframe\">\n",
              "  <thead>\n",
              "    <tr style=\"text-align: right;\">\n",
              "      <th></th>\n",
              "      <th>Interrogatives</th>\n",
              "      <th>Number of Questions</th>\n",
              "      <th>model</th>\n",
              "    </tr>\n",
              "  </thead>\n",
              "  <tbody>\n",
              "    <tr>\n",
              "      <th>0</th>\n",
              "      <td>কি</td>\n",
              "      <td>1224</td>\n",
              "      <td>banglat5</td>\n",
              "    </tr>\n",
              "    <tr>\n",
              "      <th>1</th>\n",
              "      <td>কেন</td>\n",
              "      <td>169</td>\n",
              "      <td>banglat5</td>\n",
              "    </tr>\n",
              "    <tr>\n",
              "      <th>2</th>\n",
              "      <td>কোথায়</td>\n",
              "      <td>0</td>\n",
              "      <td>banglat5</td>\n",
              "    </tr>\n",
              "    <tr>\n",
              "      <th>3</th>\n",
              "      <td>কিভাবে</td>\n",
              "      <td>4</td>\n",
              "      <td>banglat5</td>\n",
              "    </tr>\n",
              "    <tr>\n",
              "      <th>4</th>\n",
              "      <td>কখন</td>\n",
              "      <td>850</td>\n",
              "      <td>banglat5</td>\n",
              "    </tr>\n",
              "    <tr>\n",
              "      <th>5</th>\n",
              "      <td>কে</td>\n",
              "      <td>4210</td>\n",
              "      <td>banglat5</td>\n",
              "    </tr>\n",
              "    <tr>\n",
              "      <th>6</th>\n",
              "      <td>কার</td>\n",
              "      <td>1312</td>\n",
              "      <td>banglat5</td>\n",
              "    </tr>\n",
              "    <tr>\n",
              "      <th>0</th>\n",
              "      <td>কি</td>\n",
              "      <td>782</td>\n",
              "      <td>mt5_small</td>\n",
              "    </tr>\n",
              "    <tr>\n",
              "      <th>1</th>\n",
              "      <td>কেন</td>\n",
              "      <td>164</td>\n",
              "      <td>mt5_small</td>\n",
              "    </tr>\n",
              "    <tr>\n",
              "      <th>2</th>\n",
              "      <td>কোথায়</td>\n",
              "      <td>0</td>\n",
              "      <td>mt5_small</td>\n",
              "    </tr>\n",
              "    <tr>\n",
              "      <th>3</th>\n",
              "      <td>কিভাবে</td>\n",
              "      <td>0</td>\n",
              "      <td>mt5_small</td>\n",
              "    </tr>\n",
              "    <tr>\n",
              "      <th>4</th>\n",
              "      <td>কখন</td>\n",
              "      <td>582</td>\n",
              "      <td>mt5_small</td>\n",
              "    </tr>\n",
              "    <tr>\n",
              "      <th>5</th>\n",
              "      <td>কে</td>\n",
              "      <td>3298</td>\n",
              "      <td>mt5_small</td>\n",
              "    </tr>\n",
              "    <tr>\n",
              "      <th>6</th>\n",
              "      <td>কার</td>\n",
              "      <td>1253</td>\n",
              "      <td>mt5_small</td>\n",
              "    </tr>\n",
              "  </tbody>\n",
              "</table>\n",
              "</div>\n",
              "      <button class=\"colab-df-convert\" onclick=\"convertToInteractive('df-af01b156-dc45-4b4b-85b1-5e2aed443054')\"\n",
              "              title=\"Convert this dataframe to an interactive table.\"\n",
              "              style=\"display:none;\">\n",
              "        \n",
              "  <svg xmlns=\"http://www.w3.org/2000/svg\" height=\"24px\"viewBox=\"0 0 24 24\"\n",
              "       width=\"24px\">\n",
              "    <path d=\"M0 0h24v24H0V0z\" fill=\"none\"/>\n",
              "    <path d=\"M18.56 5.44l.94 2.06.94-2.06 2.06-.94-2.06-.94-.94-2.06-.94 2.06-2.06.94zm-11 1L8.5 8.5l.94-2.06 2.06-.94-2.06-.94L8.5 2.5l-.94 2.06-2.06.94zm10 10l.94 2.06.94-2.06 2.06-.94-2.06-.94-.94-2.06-.94 2.06-2.06.94z\"/><path d=\"M17.41 7.96l-1.37-1.37c-.4-.4-.92-.59-1.43-.59-.52 0-1.04.2-1.43.59L10.3 9.45l-7.72 7.72c-.78.78-.78 2.05 0 2.83L4 21.41c.39.39.9.59 1.41.59.51 0 1.02-.2 1.41-.59l7.78-7.78 2.81-2.81c.8-.78.8-2.07 0-2.86zM5.41 20L4 18.59l7.72-7.72 1.47 1.35L5.41 20z\"/>\n",
              "  </svg>\n",
              "      </button>\n",
              "      \n",
              "  <style>\n",
              "    .colab-df-container {\n",
              "      display:flex;\n",
              "      flex-wrap:wrap;\n",
              "      gap: 12px;\n",
              "    }\n",
              "\n",
              "    .colab-df-convert {\n",
              "      background-color: #E8F0FE;\n",
              "      border: none;\n",
              "      border-radius: 50%;\n",
              "      cursor: pointer;\n",
              "      display: none;\n",
              "      fill: #1967D2;\n",
              "      height: 32px;\n",
              "      padding: 0 0 0 0;\n",
              "      width: 32px;\n",
              "    }\n",
              "\n",
              "    .colab-df-convert:hover {\n",
              "      background-color: #E2EBFA;\n",
              "      box-shadow: 0px 1px 2px rgba(60, 64, 67, 0.3), 0px 1px 3px 1px rgba(60, 64, 67, 0.15);\n",
              "      fill: #174EA6;\n",
              "    }\n",
              "\n",
              "    [theme=dark] .colab-df-convert {\n",
              "      background-color: #3B4455;\n",
              "      fill: #D2E3FC;\n",
              "    }\n",
              "\n",
              "    [theme=dark] .colab-df-convert:hover {\n",
              "      background-color: #434B5C;\n",
              "      box-shadow: 0px 1px 3px 1px rgba(0, 0, 0, 0.15);\n",
              "      filter: drop-shadow(0px 1px 2px rgba(0, 0, 0, 0.3));\n",
              "      fill: #FFFFFF;\n",
              "    }\n",
              "  </style>\n",
              "\n",
              "      <script>\n",
              "        const buttonEl =\n",
              "          document.querySelector('#df-af01b156-dc45-4b4b-85b1-5e2aed443054 button.colab-df-convert');\n",
              "        buttonEl.style.display =\n",
              "          google.colab.kernel.accessAllowed ? 'block' : 'none';\n",
              "\n",
              "        async function convertToInteractive(key) {\n",
              "          const element = document.querySelector('#df-af01b156-dc45-4b4b-85b1-5e2aed443054');\n",
              "          const dataTable =\n",
              "            await google.colab.kernel.invokeFunction('convertToInteractive',\n",
              "                                                     [key], {});\n",
              "          if (!dataTable) return;\n",
              "\n",
              "          const docLinkHtml = 'Like what you see? Visit the ' +\n",
              "            '<a target=\"_blank\" href=https://colab.research.google.com/notebooks/data_table.ipynb>data table notebook</a>'\n",
              "            + ' to learn more about interactive tables.';\n",
              "          element.innerHTML = '';\n",
              "          dataTable['output_type'] = 'display_data';\n",
              "          await google.colab.output.renderOutput(dataTable, element);\n",
              "          const docLink = document.createElement('div');\n",
              "          docLink.innerHTML = docLinkHtml;\n",
              "          element.appendChild(docLink);\n",
              "        }\n",
              "      </script>\n",
              "    </div>\n",
              "  </div>\n",
              "  "
            ]
          },
          "metadata": {},
          "execution_count": 114
        }
      ]
    },
    {
      "cell_type": "code",
      "source": [
        "len(bt5_greedy)"
      ],
      "metadata": {
        "colab": {
          "base_uri": "https://localhost:8080/"
        },
        "id": "b58iv4virL_O",
        "outputId": "39f7d0ad-d1a0-411c-d5b5-ba7f3e10d809"
      },
      "execution_count": null,
      "outputs": [
        {
          "output_type": "execute_result",
          "data": {
            "text/plain": [
              "13538"
            ]
          },
          "metadata": {},
          "execution_count": 138
        }
      ]
    },
    {
      "cell_type": "code",
      "source": [
        "import numpy as np"
      ],
      "metadata": {
        "id": "rmRRtg_srlV4"
      },
      "execution_count": null,
      "outputs": []
    },
    {
      "cell_type": "code",
      "source": [
        "result_interrogative['Percentage of Questions'] = np.round(result_interrogative['Number of Questions']/len(bt5_greedy)*100,2)"
      ],
      "metadata": {
        "id": "zNURmd6jrUS6"
      },
      "execution_count": null,
      "outputs": []
    },
    {
      "cell_type": "code",
      "source": [
        "result_interrogative.to_excel(\"results.xlsx\")"
      ],
      "metadata": {
        "id": "xPy8GEV8reFh"
      },
      "execution_count": null,
      "outputs": []
    },
    {
      "cell_type": "code",
      "source": [],
      "metadata": {
        "id": "vQCuLoJey5nM"
      },
      "execution_count": null,
      "outputs": []
    },
    {
      "cell_type": "code",
      "source": [
        "import matplotlib.font_manager as fm\n"
      ],
      "metadata": {
        "id": "j2pE_zf0sf2L"
      },
      "execution_count": null,
      "outputs": []
    },
    {
      "cell_type": "code",
      "source": [
        "prop = fm.FontProperties(fname=\"Siyamrupali.ttf\")"
      ],
      "metadata": {
        "id": "AQx4cNWSsqjr"
      },
      "execution_count": null,
      "outputs": []
    },
    {
      "cell_type": "code",
      "source": [
        " # set width of bars\n",
        "barWidth = 0.25\n",
        " \n",
        "# set heights of bars\n",
        "bars1 = list(bt5_results.values())\n",
        "bars2 = list(mt5_results.values())\n",
        " \n",
        "# Set position of bar on X axis\n",
        "r1 = np.arange(len(bars1))\n",
        "r2 = [x + barWidth for x in r1]\n",
        " \n",
        "# Make the plot\n",
        "plt.bar(r1, bars1, color='#7f6d5f', width=barWidth, edgecolor='white', label='banglat5')\n",
        "plt.bar(r2, bars2, color='#557f2d', width=barWidth, edgecolor='white', label='mt5_small')\n",
        " \n",
        "# Add xticks on the middle of the group bars\n",
        "plt.xlabel('group', fontweight='bold')\n",
        "plt.xticks([r + barWidth for r in range(len(bars1))], interrogatives,fontproperties=prop)\n",
        " \n",
        "# Create legend & Show graphic\n",
        "plt.legend()"
      ],
      "metadata": {
        "colab": {
          "base_uri": "https://localhost:8080/",
          "height": 305
        },
        "id": "GZL5XNcKxZre",
        "outputId": "bed67672-2550-4e34-81c1-f68eb95f2c15"
      },
      "execution_count": null,
      "outputs": [
        {
          "output_type": "execute_result",
          "data": {
            "text/plain": [
              "<matplotlib.legend.Legend at 0x7f37081fe690>"
            ]
          },
          "metadata": {},
          "execution_count": 177
        },
        {
          "output_type": "display_data",
          "data": {
            "text/plain": [
              "<Figure size 432x288 with 1 Axes>"
            ],
            "image/png": "[encoded data removed]"
          },
          "metadata": {}
        }
      ]
    },
    {
      "cell_type": "code",
      "source": [],
      "metadata": {
        "id": "qtCva2QNqx-D"
      },
      "execution_count": null,
      "outputs": []
    },
    {
      "cell_type": "markdown",
      "source": [
        "# Context Copying"
      ],
      "metadata": {
        "id": "pYMYVyvPMHrc"
      }
    },
    {
      "cell_type": "code",
      "source": [
        "!pip install pylcs"
      ],
      "metadata": {
        "colab": {
          "base_uri": "https://localhost:8080/"
        },
        "id": "Wie06ZBXMIZ-",
        "outputId": "45dc0fe9-24d0-4223-93fc-c44069243ccd"
      },
      "execution_count": null,
      "outputs": [
        {
          "output_type": "stream",
          "name": "stdout",
          "text": [
            "Looking in indexes: https://pypi.org/simple, https://us-python.pkg.dev/colab-wheels/public/simple/\n",
            "Collecting pylcs\n",
            "  Downloading pylcs-0.0.7.tar.gz (5.1 kB)\n",
            "  Installing build dependencies ... \u001b[?25l\u001b[?25hdone\n",
            "  Getting requirements to build wheel ... \u001b[?25l\u001b[?25hdone\n",
            "  Installing backend dependencies ... \u001b[?25l\u001b[?25hdone\n",
            "    Preparing wheel metadata ... \u001b[?25l\u001b[?25hdone\n",
            "Collecting pybind11>=2.2\n",
            "  Using cached pybind11-2.10.0-py3-none-any.whl (213 kB)\n",
            "Building wheels for collected packages: pylcs\n",
            "  Building wheel for pylcs (PEP 517) ... \u001b[?25l\u001b[?25hdone\n",
            "  Created wheel for pylcs: filename=pylcs-0.0.7-cp37-cp37m-linux_x86_64.whl size=784314 sha256=1bff823a81d0751ec9d929026258f6f1c411bcef520326948ef51c2916a79c39\n",
            "  Stored in directory: /root/.cache/pip/wheels/9e/13/8c/32d54c6d0a00ae8af6ee4506d4f46e85e8056590bdf02f0a14\n",
            "Successfully built pylcs\n",
            "Installing collected packages: pybind11, pylcs\n",
            "Successfully installed pybind11-2.10.0 pylcs-0.0.7\n"
          ]
        }
      ]
    },
    {
      "cell_type": "code",
      "source": [
        "import pylcs"
      ],
      "metadata": {
        "id": "2F0_DZrCMsur"
      },
      "execution_count": null,
      "outputs": []
    },
    {
      "cell_type": "code",
      "source": [
        "A = 'We are shannonai'\n",
        "B = 'We like shannonai'\n",
        "pylcs.lcs_sequence_length(A, B)"
      ],
      "metadata": {
        "colab": {
          "base_uri": "https://localhost:8080/"
        },
        "id": "v9lV-PmvMMBV",
        "outputId": "7dbd25e6-54a5-4ebe-fc77-8e6f300ed4a6"
      },
      "execution_count": null,
      "outputs": [
        {
          "output_type": "execute_result",
          "data": {
            "text/plain": [
              "14"
            ]
          },
          "metadata": {},
          "execution_count": 8
        }
      ]
    },
    {
      "cell_type": "code",
      "source": [
        "bt5_greedy.columns"
      ],
      "metadata": {
        "colab": {
          "base_uri": "https://localhost:8080/"
        },
        "id": "92rnAymJNrT6",
        "outputId": "5c5b3c3f-1d76-4d27-cd81-1e4a7522c9d5"
      },
      "execution_count": null,
      "outputs": [
        {
          "output_type": "execute_result",
          "data": {
            "text/plain": [
              "Index(['Reference_question', 'Predicted_question', 'Answer', 'Context'], dtype='object')"
            ]
          },
          "metadata": {},
          "execution_count": 11
        }
      ]
    },
    {
      "cell_type": "code",
      "source": [
        "bt5_lcs = []\n",
        "for i, row in bt5_greedy.iterrows():\n",
        "  bt5_lcs.append(pylcs.lcs_string_length(row['Context'],row['Predicted_question']))"
      ],
      "metadata": {
        "id": "mguvv_RnM8LO"
      },
      "execution_count": null,
      "outputs": []
    },
    {
      "cell_type": "code",
      "source": [
        "bt5_greedy['LCS(string)'] = bt5_lcs"
      ],
      "metadata": {
        "id": "3BZxD1amMrpZ"
      },
      "execution_count": null,
      "outputs": []
    },
    {
      "cell_type": "code",
      "source": [
        "bt5_greedy['LCS(string)'].mean()"
      ],
      "metadata": {
        "colab": {
          "base_uri": "https://localhost:8080/"
        },
        "id": "YtMFyKRVO0BT",
        "outputId": "11eb215d-fc2f-460f-f362-0d90e6f23ba6"
      },
      "execution_count": null,
      "outputs": [
        {
          "output_type": "execute_result",
          "data": {
            "text/plain": [
              "22.834392081548234"
            ]
          },
          "metadata": {},
          "execution_count": 21
        }
      ]
    },
    {
      "cell_type": "code",
      "source": [
        "bt5_greedy.sort_values(by='LCS(string)',ascending=False).to_csv(\"/content/gdrive/MyDrive/Related work QG/Results/errors/lcs_bt5.csv\", index=False)"
      ],
      "metadata": {
        "id": "YtqQpd9IO_Sz"
      },
      "execution_count": null,
      "outputs": []
    },
    {
      "cell_type": "code",
      "source": [
        "mt5_lcs = []\n",
        "for i, row in mt5_greedy.iterrows():\n",
        "  mt5_lcs.append(pylcs.lcs_sequence_length(row['Context'],row['Predicted_question']))"
      ],
      "metadata": {
        "id": "BckgGM1HQQk5"
      },
      "execution_count": null,
      "outputs": []
    },
    {
      "cell_type": "code",
      "source": [
        "mt5_greedy['LCS(subsequence)'] = mt5_lcs"
      ],
      "metadata": {
        "id": "PExhD8D-PWJW"
      },
      "execution_count": null,
      "outputs": []
    },
    {
      "cell_type": "code",
      "source": [
        "mt5_greedy.sort_values(by='LCS(subsequence)',ascending=False).to_csv(\"/content/gdrive/MyDrive/Related work QG/Results/errors/lcs_mt5.csv\", index=False)"
      ],
      "metadata": {
        "id": "pEUfASeoQgGt"
      },
      "execution_count": null,
      "outputs": []
    },
    {
      "cell_type": "code",
      "source": [
        "bt5_greedy.describe()"
      ],
      "metadata": {
        "colab": {
          "base_uri": "https://localhost:8080/",
          "height": 300
        },
        "id": "GnrSVREQQrCr",
        "outputId": "761b4ae4-9ac5-4728-f164-c3834382d344"
      },
      "execution_count": null,
      "outputs": [
        {
          "output_type": "execute_result",
          "data": {
            "text/plain": [
              "       LCS(sequence)   LCS(string)\n",
              "count   13538.000000  13538.000000\n",
              "mean       47.977545     22.834392\n",
              "std        18.342991     11.934620\n",
              "min         6.000000      2.000000\n",
              "25%        35.000000     15.000000\n",
              "50%        45.000000     20.000000\n",
              "75%        58.000000     28.000000\n",
              "max       211.000000    106.000000"
            ],
            "text/html": [
              "\n",
              "  <div id=\"df-3824f386-8a6d-48fa-a478-eab0782d430b\">\n",
              "    <div class=\"colab-df-container\">\n",
              "      <div>\n",
              "<style scoped>\n",
              "    .dataframe tbody tr th:only-of-type {\n",
              "        vertical-align: middle;\n",
              "    }\n",
              "\n",
              "    .dataframe tbody tr th {\n",
              "        vertical-align: top;\n",
              "    }\n",
              "\n",
              "    .dataframe thead th {\n",
              "        text-align: right;\n",
              "    }\n",
              "</style>\n",
              "<table border=\"1\" class=\"dataframe\">\n",
              "  <thead>\n",
              "    <tr style=\"text-align: right;\">\n",
              "      <th></th>\n",
              "      <th>LCS(sequence)</th>\n",
              "      <th>LCS(string)</th>\n",
              "    </tr>\n",
              "  </thead>\n",
              "  <tbody>\n",
              "    <tr>\n",
              "      <th>count</th>\n",
              "      <td>13538.000000</td>\n",
              "      <td>13538.000000</td>\n",
              "    </tr>\n",
              "    <tr>\n",
              "      <th>mean</th>\n",
              "      <td>47.977545</td>\n",
              "      <td>22.834392</td>\n",
              "    </tr>\n",
              "    <tr>\n",
              "      <th>std</th>\n",
              "      <td>18.342991</td>\n",
              "      <td>11.934620</td>\n",
              "    </tr>\n",
              "    <tr>\n",
              "      <th>min</th>\n",
              "      <td>6.000000</td>\n",
              "      <td>2.000000</td>\n",
              "    </tr>\n",
              "    <tr>\n",
              "      <th>25%</th>\n",
              "      <td>35.000000</td>\n",
              "      <td>15.000000</td>\n",
              "    </tr>\n",
              "    <tr>\n",
              "      <th>50%</th>\n",
              "      <td>45.000000</td>\n",
              "      <td>20.000000</td>\n",
              "    </tr>\n",
              "    <tr>\n",
              "      <th>75%</th>\n",
              "      <td>58.000000</td>\n",
              "      <td>28.000000</td>\n",
              "    </tr>\n",
              "    <tr>\n",
              "      <th>max</th>\n",
              "      <td>211.000000</td>\n",
              "      <td>106.000000</td>\n",
              "    </tr>\n",
              "  </tbody>\n",
              "</table>\n",
              "</div>\n",
              "      <button class=\"colab-df-convert\" onclick=\"convertToInteractive('df-3824f386-8a6d-48fa-a478-eab0782d430b')\"\n",
              "              title=\"Convert this dataframe to an interactive table.\"\n",
              "              style=\"display:none;\">\n",
              "        \n",
              "  <svg xmlns=\"http://www.w3.org/2000/svg\" height=\"24px\"viewBox=\"0 0 24 24\"\n",
              "       width=\"24px\">\n",
              "    <path d=\"M0 0h24v24H0V0z\" fill=\"none\"/>\n",
              "    <path d=\"M18.56 5.44l.94 2.06.94-2.06 2.06-.94-2.06-.94-.94-2.06-.94 2.06-2.06.94zm-11 1L8.5 8.5l.94-2.06 2.06-.94-2.06-.94L8.5 2.5l-.94 2.06-2.06.94zm10 10l.94 2.06.94-2.06 2.06-.94-2.06-.94-.94-2.06-.94 2.06-2.06.94z\"/><path d=\"M17.41 7.96l-1.37-1.37c-.4-.4-.92-.59-1.43-.59-.52 0-1.04.2-1.43.59L10.3 9.45l-7.72 7.72c-.78.78-.78 2.05 0 2.83L4 21.41c.39.39.9.59 1.41.59.51 0 1.02-.2 1.41-.59l7.78-7.78 2.81-2.81c.8-.78.8-2.07 0-2.86zM5.41 20L4 18.59l7.72-7.72 1.47 1.35L5.41 20z\"/>\n",
              "  </svg>\n",
              "      </button>\n",
              "      \n",
              "  <style>\n",
              "    .colab-df-container {\n",
              "      display:flex;\n",
              "      flex-wrap:wrap;\n",
              "      gap: 12px;\n",
              "    }\n",
              "\n",
              "    .colab-df-convert {\n",
              "      background-color: #E8F0FE;\n",
              "      border: none;\n",
              "      border-radius: 50%;\n",
              "      cursor: pointer;\n",
              "      display: none;\n",
              "      fill: #1967D2;\n",
              "      height: 32px;\n",
              "      padding: 0 0 0 0;\n",
              "      width: 32px;\n",
              "    }\n",
              "\n",
              "    .colab-df-convert:hover {\n",
              "      background-color: #E2EBFA;\n",
              "      box-shadow: 0px 1px 2px rgba(60, 64, 67, 0.3), 0px 1px 3px 1px rgba(60, 64, 67, 0.15);\n",
              "      fill: #174EA6;\n",
              "    }\n",
              "\n",
              "    [theme=dark] .colab-df-convert {\n",
              "      background-color: #3B4455;\n",
              "      fill: #D2E3FC;\n",
              "    }\n",
              "\n",
              "    [theme=dark] .colab-df-convert:hover {\n",
              "      background-color: #434B5C;\n",
              "      box-shadow: 0px 1px 3px 1px rgba(0, 0, 0, 0.15);\n",
              "      filter: drop-shadow(0px 1px 2px rgba(0, 0, 0, 0.3));\n",
              "      fill: #FFFFFF;\n",
              "    }\n",
              "  </style>\n",
              "\n",
              "      <script>\n",
              "        const buttonEl =\n",
              "          document.querySelector('#df-3824f386-8a6d-48fa-a478-eab0782d430b button.colab-df-convert');\n",
              "        buttonEl.style.display =\n",
              "          google.colab.kernel.accessAllowed ? 'block' : 'none';\n",
              "\n",
              "        async function convertToInteractive(key) {\n",
              "          const element = document.querySelector('#df-3824f386-8a6d-48fa-a478-eab0782d430b');\n",
              "          const dataTable =\n",
              "            await google.colab.kernel.invokeFunction('convertToInteractive',\n",
              "                                                     [key], {});\n",
              "          if (!dataTable) return;\n",
              "\n",
              "          const docLinkHtml = 'Like what you see? Visit the ' +\n",
              "            '<a target=\"_blank\" href=https://colab.research.google.com/notebooks/data_table.ipynb>data table notebook</a>'\n",
              "            + ' to learn more about interactive tables.';\n",
              "          element.innerHTML = '';\n",
              "          dataTable['output_type'] = 'display_data';\n",
              "          await google.colab.output.renderOutput(dataTable, element);\n",
              "          const docLink = document.createElement('div');\n",
              "          docLink.innerHTML = docLinkHtml;\n",
              "          element.appendChild(docLink);\n",
              "        }\n",
              "      </script>\n",
              "    </div>\n",
              "  </div>\n",
              "  "
            ]
          },
          "metadata": {},
          "execution_count": 39
        }
      ]
    },
    {
      "cell_type": "code",
      "source": [
        "mt5_greedy.describe()"
      ],
      "metadata": {
        "colab": {
          "base_uri": "https://localhost:8080/",
          "height": 300
        },
        "id": "Po0ZAVaHRF5U",
        "outputId": "bd32af7e-54f8-4c80-cd5b-f449edd2a6c3"
      },
      "execution_count": null,
      "outputs": [
        {
          "output_type": "execute_result",
          "data": {
            "text/plain": [
              "        LCS(string)  LCS(sequence)  LCS(subsequence)\n",
              "count  13538.000000   13538.000000      13538.000000\n",
              "mean      29.566406      50.002807         50.002807\n",
              "std       15.369077      19.661312         19.661312\n",
              "min        3.000000       7.000000          7.000000\n",
              "25%       19.000000      36.000000         36.000000\n",
              "50%       26.000000      47.000000         47.000000\n",
              "75%       37.000000      61.000000         61.000000\n",
              "max      129.000000     142.000000        142.000000"
            ],
            "text/html": [
              "\n",
              "  <div id=\"df-771b7728-e677-4b8c-a952-9959be43796d\">\n",
              "    <div class=\"colab-df-container\">\n",
              "      <div>\n",
              "<style scoped>\n",
              "    .dataframe tbody tr th:only-of-type {\n",
              "        vertical-align: middle;\n",
              "    }\n",
              "\n",
              "    .dataframe tbody tr th {\n",
              "        vertical-align: top;\n",
              "    }\n",
              "\n",
              "    .dataframe thead th {\n",
              "        text-align: right;\n",
              "    }\n",
              "</style>\n",
              "<table border=\"1\" class=\"dataframe\">\n",
              "  <thead>\n",
              "    <tr style=\"text-align: right;\">\n",
              "      <th></th>\n",
              "      <th>LCS(string)</th>\n",
              "      <th>LCS(sequence)</th>\n",
              "      <th>LCS(subsequence)</th>\n",
              "    </tr>\n",
              "  </thead>\n",
              "  <tbody>\n",
              "    <tr>\n",
              "      <th>count</th>\n",
              "      <td>13538.000000</td>\n",
              "      <td>13538.000000</td>\n",
              "      <td>13538.000000</td>\n",
              "    </tr>\n",
              "    <tr>\n",
              "      <th>mean</th>\n",
              "      <td>29.566406</td>\n",
              "      <td>50.002807</td>\n",
              "      <td>50.002807</td>\n",
              "    </tr>\n",
              "    <tr>\n",
              "      <th>std</th>\n",
              "      <td>15.369077</td>\n",
              "      <td>19.661312</td>\n",
              "      <td>19.661312</td>\n",
              "    </tr>\n",
              "    <tr>\n",
              "      <th>min</th>\n",
              "      <td>3.000000</td>\n",
              "      <td>7.000000</td>\n",
              "      <td>7.000000</td>\n",
              "    </tr>\n",
              "    <tr>\n",
              "      <th>25%</th>\n",
              "      <td>19.000000</td>\n",
              "      <td>36.000000</td>\n",
              "      <td>36.000000</td>\n",
              "    </tr>\n",
              "    <tr>\n",
              "      <th>50%</th>\n",
              "      <td>26.000000</td>\n",
              "      <td>47.000000</td>\n",
              "      <td>47.000000</td>\n",
              "    </tr>\n",
              "    <tr>\n",
              "      <th>75%</th>\n",
              "      <td>37.000000</td>\n",
              "      <td>61.000000</td>\n",
              "      <td>61.000000</td>\n",
              "    </tr>\n",
              "    <tr>\n",
              "      <th>max</th>\n",
              "      <td>129.000000</td>\n",
              "      <td>142.000000</td>\n",
              "      <td>142.000000</td>\n",
              "    </tr>\n",
              "  </tbody>\n",
              "</table>\n",
              "</div>\n",
              "      <button class=\"colab-df-convert\" onclick=\"convertToInteractive('df-771b7728-e677-4b8c-a952-9959be43796d')\"\n",
              "              title=\"Convert this dataframe to an interactive table.\"\n",
              "              style=\"display:none;\">\n",
              "        \n",
              "  <svg xmlns=\"http://www.w3.org/2000/svg\" height=\"24px\"viewBox=\"0 0 24 24\"\n",
              "       width=\"24px\">\n",
              "    <path d=\"M0 0h24v24H0V0z\" fill=\"none\"/>\n",
              "    <path d=\"M18.56 5.44l.94 2.06.94-2.06 2.06-.94-2.06-.94-.94-2.06-.94 2.06-2.06.94zm-11 1L8.5 8.5l.94-2.06 2.06-.94-2.06-.94L8.5 2.5l-.94 2.06-2.06.94zm10 10l.94 2.06.94-2.06 2.06-.94-2.06-.94-.94-2.06-.94 2.06-2.06.94z\"/><path d=\"M17.41 7.96l-1.37-1.37c-.4-.4-.92-.59-1.43-.59-.52 0-1.04.2-1.43.59L10.3 9.45l-7.72 7.72c-.78.78-.78 2.05 0 2.83L4 21.41c.39.39.9.59 1.41.59.51 0 1.02-.2 1.41-.59l7.78-7.78 2.81-2.81c.8-.78.8-2.07 0-2.86zM5.41 20L4 18.59l7.72-7.72 1.47 1.35L5.41 20z\"/>\n",
              "  </svg>\n",
              "      </button>\n",
              "      \n",
              "  <style>\n",
              "    .colab-df-container {\n",
              "      display:flex;\n",
              "      flex-wrap:wrap;\n",
              "      gap: 12px;\n",
              "    }\n",
              "\n",
              "    .colab-df-convert {\n",
              "      background-color: #E8F0FE;\n",
              "      border: none;\n",
              "      border-radius: 50%;\n",
              "      cursor: pointer;\n",
              "      display: none;\n",
              "      fill: #1967D2;\n",
              "      height: 32px;\n",
              "      padding: 0 0 0 0;\n",
              "      width: 32px;\n",
              "    }\n",
              "\n",
              "    .colab-df-convert:hover {\n",
              "      background-color: #E2EBFA;\n",
              "      box-shadow: 0px 1px 2px rgba(60, 64, 67, 0.3), 0px 1px 3px 1px rgba(60, 64, 67, 0.15);\n",
              "      fill: #174EA6;\n",
              "    }\n",
              "\n",
              "    [theme=dark] .colab-df-convert {\n",
              "      background-color: #3B4455;\n",
              "      fill: #D2E3FC;\n",
              "    }\n",
              "\n",
              "    [theme=dark] .colab-df-convert:hover {\n",
              "      background-color: #434B5C;\n",
              "      box-shadow: 0px 1px 3px 1px rgba(0, 0, 0, 0.15);\n",
              "      filter: drop-shadow(0px 1px 2px rgba(0, 0, 0, 0.3));\n",
              "      fill: #FFFFFF;\n",
              "    }\n",
              "  </style>\n",
              "\n",
              "      <script>\n",
              "        const buttonEl =\n",
              "          document.querySelector('#df-771b7728-e677-4b8c-a952-9959be43796d button.colab-df-convert');\n",
              "        buttonEl.style.display =\n",
              "          google.colab.kernel.accessAllowed ? 'block' : 'none';\n",
              "\n",
              "        async function convertToInteractive(key) {\n",
              "          const element = document.querySelector('#df-771b7728-e677-4b8c-a952-9959be43796d');\n",
              "          const dataTable =\n",
              "            await google.colab.kernel.invokeFunction('convertToInteractive',\n",
              "                                                     [key], {});\n",
              "          if (!dataTable) return;\n",
              "\n",
              "          const docLinkHtml = 'Like what you see? Visit the ' +\n",
              "            '<a target=\"_blank\" href=https://colab.research.google.com/notebooks/data_table.ipynb>data table notebook</a>'\n",
              "            + ' to learn more about interactive tables.';\n",
              "          element.innerHTML = '';\n",
              "          dataTable['output_type'] = 'display_data';\n",
              "          await google.colab.output.renderOutput(dataTable, element);\n",
              "          const docLink = document.createElement('div');\n",
              "          docLink.innerHTML = docLinkHtml;\n",
              "          element.appendChild(docLink);\n",
              "        }\n",
              "      </script>\n",
              "    </div>\n",
              "  </div>\n",
              "  "
            ]
          },
          "metadata": {},
          "execution_count": 40
        }
      ]
    },
    {
      "cell_type": "code",
      "source": [],
      "metadata": {
        "id": "DJC-BqEuRJGk"
      },
      "execution_count": null,
      "outputs": []
    },
    {
      "cell_type": "markdown",
      "source": [
        "# Human Evaluation"
      ],
      "metadata": {
        "id": "DGHjRpVXqkAB"
      }
    },
    {
      "cell_type": "code",
      "source": [
        "import pandas as pd"
      ],
      "metadata": {
        "id": "WQIND6_oqmgM"
      },
      "execution_count": null,
      "outputs": []
    },
    {
      "cell_type": "code",
      "source": [
        "df = pd.read_excel(\"/content/Human_Evaluation.xlsx\")"
      ],
      "metadata": {
        "id": "26wWK_zzJybP"
      },
      "execution_count": null,
      "outputs": []
    },
    {
      "cell_type": "code",
      "source": [
        "# df = pd.read_excel(\"/content/Human Evaluation BanglaT5 Results.xlsx\")"
      ],
      "metadata": {
        "id": "rymhUMM2rIaV"
      },
      "execution_count": null,
      "outputs": []
    },
    {
      "cell_type": "code",
      "source": [
        "df.head()"
      ],
      "metadata": {
        "colab": {
          "base_uri": "https://localhost:8080/",
          "height": 441
        },
        "id": "MBZahR1SrMOt",
        "outputId": "1827165f-f6d7-47ec-cf90-2997241b96ae"
      },
      "execution_count": null,
      "outputs": [
        {
          "output_type": "execute_result",
          "data": {
            "text/plain": [
              "             Setting      Model  \\\n",
              "0  Topk-10,temp-0.7.  mt5_small   \n",
              "1  Topk-10,temp-0.7.  mt5_small   \n",
              "2  Topk-10,temp-0.7.  mt5_small   \n",
              "3  Topk-10,temp-0.7.  mt5_small   \n",
              "4  Topk-10,temp-0.7.  mt5_small   \n",
              "\n",
              "                                  Reference_question  \\\n",
              "0              হিব্রু বাইবেলের মোট কতগুলি খণ্ড আছে ?   \n",
              "1                               ঢাকা শহরের আয়তন কত ?   \n",
              "2               দ্বিতীয় বিশ্বযুদ্ধের সূচনা কবে হয় ?   \n",
              "3  পাকিস্তানি মুসলিম জাতীয়তাবাদী চৌধুরী রহমত আলি...   \n",
              "4                          পাল বংশের প্রথম রাজা কে ?   \n",
              "\n",
              "                                  Predicted_question           Answer  \\\n",
              "0           কী কাদের মধ্যে তানাখ শব্দটি ব্যবহার করে?            তিনটি   \n",
              "1                         এই শহরে কত জন লোক বাস করে?     ১৩৪ বর্গমাইল   \n",
              "2  কোন বছর দ্বিতীয় বিশ্বযুদ্ধের সময়সীমা ধরা হয়...         ১৯৩৯ সাল   \n",
              "3   কোন বছর চৌধুরী রহমত আলি কখন মুসলিম জাতীয়তাবাদী?  ১৬ নভেম্বর ১৮৯৫   \n",
              "4                           কোন যোদ্ধার পুত্র ছিলেন?            গোপাল   \n",
              "\n",
              "                                             Context  Answerability  \\\n",
              "0  হিব্রু বাইবেল (Hebrew Bible) বলতে ইহুদি ও খ্রি...            1.0   \n",
              "1  ঢাকা দক্ষিণ এশিয়ার রাষ্ট্র বাংলাদেশের রাজধানী...            1.0   \n",
              "2  দ্বিতীয় বিশ্বযুদ্ধ (English: World WarII, Sec...            1.0   \n",
              "3  চৌধুরী রহমত আলি (উর্দু: چودھری رحمت علی) (১৬ ন...            0.0   \n",
              "4  খালিমপুর তাম্রলিপি অনুসারে, প্রথম পাল রাজা গোপ...            1.0   \n",
              "\n",
              "   Correctness  Relevance _to_context  Relevance_to_answer  \n",
              "0          1.0                    1.0                  0.0  \n",
              "1          1.0                    1.0                  0.0  \n",
              "2          1.0                    1.0                  0.0  \n",
              "3          0.0                    0.0                  0.0  \n",
              "4          1.0                    1.0                  0.0  "
            ],
            "text/html": [
              "\n",
              "  <div id=\"df-f1b5780a-ceff-4c13-a84b-226cb29e3837\">\n",
              "    <div class=\"colab-df-container\">\n",
              "      <div>\n",
              "<style scoped>\n",
              "    .dataframe tbody tr th:only-of-type {\n",
              "        vertical-align: middle;\n",
              "    }\n",
              "\n",
              "    .dataframe tbody tr th {\n",
              "        vertical-align: top;\n",
              "    }\n",
              "\n",
              "    .dataframe thead th {\n",
              "        text-align: right;\n",
              "    }\n",
              "</style>\n",
              "<table border=\"1\" class=\"dataframe\">\n",
              "  <thead>\n",
              "    <tr style=\"text-align: right;\">\n",
              "      <th></th>\n",
              "      <th>Setting</th>\n",
              "      <th>Model</th>\n",
              "      <th>Reference_question</th>\n",
              "      <th>Predicted_question</th>\n",
              "      <th>Answer</th>\n",
              "      <th>Context</th>\n",
              "      <th>Answerability</th>\n",
              "      <th>Correctness</th>\n",
              "      <th>Relevance _to_context</th>\n",
              "      <th>Relevance_to_answer</th>\n",
              "    </tr>\n",
              "  </thead>\n",
              "  <tbody>\n",
              "    <tr>\n",
              "      <th>0</th>\n",
              "      <td>Topk-10,temp-0.7.</td>\n",
              "      <td>mt5_small</td>\n",
              "      <td>হিব্রু বাইবেলের মোট কতগুলি খণ্ড আছে ?</td>\n",
              "      <td>কী কাদের মধ্যে তানাখ শব্দটি ব্যবহার করে?</td>\n",
              "      <td>তিনটি</td>\n",
              "      <td>হিব্রু বাইবেল (Hebrew Bible) বলতে ইহুদি ও খ্রি...</td>\n",
              "      <td>1.0</td>\n",
              "      <td>1.0</td>\n",
              "      <td>1.0</td>\n",
              "      <td>0.0</td>\n",
              "    </tr>\n",
              "    <tr>\n",
              "      <th>1</th>\n",
              "      <td>Topk-10,temp-0.7.</td>\n",
              "      <td>mt5_small</td>\n",
              "      <td>ঢাকা শহরের আয়তন কত ?</td>\n",
              "      <td>এই শহরে কত জন লোক বাস করে?</td>\n",
              "      <td>১৩৪ বর্গমাইল</td>\n",
              "      <td>ঢাকা দক্ষিণ এশিয়ার রাষ্ট্র বাংলাদেশের রাজধানী...</td>\n",
              "      <td>1.0</td>\n",
              "      <td>1.0</td>\n",
              "      <td>1.0</td>\n",
              "      <td>0.0</td>\n",
              "    </tr>\n",
              "    <tr>\n",
              "      <th>2</th>\n",
              "      <td>Topk-10,temp-0.7.</td>\n",
              "      <td>mt5_small</td>\n",
              "      <td>দ্বিতীয় বিশ্বযুদ্ধের সূচনা কবে হয় ?</td>\n",
              "      <td>কোন বছর দ্বিতীয় বিশ্বযুদ্ধের সময়সীমা ধরা হয়...</td>\n",
              "      <td>১৯৩৯ সাল</td>\n",
              "      <td>দ্বিতীয় বিশ্বযুদ্ধ (English: World WarII, Sec...</td>\n",
              "      <td>1.0</td>\n",
              "      <td>1.0</td>\n",
              "      <td>1.0</td>\n",
              "      <td>0.0</td>\n",
              "    </tr>\n",
              "    <tr>\n",
              "      <th>3</th>\n",
              "      <td>Topk-10,temp-0.7.</td>\n",
              "      <td>mt5_small</td>\n",
              "      <td>পাকিস্তানি মুসলিম জাতীয়তাবাদী চৌধুরী রহমত আলি...</td>\n",
              "      <td>কোন বছর চৌধুরী রহমত আলি কখন মুসলিম জাতীয়তাবাদী?</td>\n",
              "      <td>১৬ নভেম্বর ১৮৯৫</td>\n",
              "      <td>চৌধুরী রহমত আলি (উর্দু: چودھری رحمت علی) (১৬ ন...</td>\n",
              "      <td>0.0</td>\n",
              "      <td>0.0</td>\n",
              "      <td>0.0</td>\n",
              "      <td>0.0</td>\n",
              "    </tr>\n",
              "    <tr>\n",
              "      <th>4</th>\n",
              "      <td>Topk-10,temp-0.7.</td>\n",
              "      <td>mt5_small</td>\n",
              "      <td>পাল বংশের প্রথম রাজা কে ?</td>\n",
              "      <td>কোন যোদ্ধার পুত্র ছিলেন?</td>\n",
              "      <td>গোপাল</td>\n",
              "      <td>খালিমপুর তাম্রলিপি অনুসারে, প্রথম পাল রাজা গোপ...</td>\n",
              "      <td>1.0</td>\n",
              "      <td>1.0</td>\n",
              "      <td>1.0</td>\n",
              "      <td>0.0</td>\n",
              "    </tr>\n",
              "  </tbody>\n",
              "</table>\n",
              "</div>\n",
              "      <button class=\"colab-df-convert\" onclick=\"convertToInteractive('df-f1b5780a-ceff-4c13-a84b-226cb29e3837')\"\n",
              "              title=\"Convert this dataframe to an interactive table.\"\n",
              "              style=\"display:none;\">\n",
              "        \n",
              "  <svg xmlns=\"http://www.w3.org/2000/svg\" height=\"24px\"viewBox=\"0 0 24 24\"\n",
              "       width=\"24px\">\n",
              "    <path d=\"M0 0h24v24H0V0z\" fill=\"none\"/>\n",
              "    <path d=\"M18.56 5.44l.94 2.06.94-2.06 2.06-.94-2.06-.94-.94-2.06-.94 2.06-2.06.94zm-11 1L8.5 8.5l.94-2.06 2.06-.94-2.06-.94L8.5 2.5l-.94 2.06-2.06.94zm10 10l.94 2.06.94-2.06 2.06-.94-2.06-.94-.94-2.06-.94 2.06-2.06.94z\"/><path d=\"M17.41 7.96l-1.37-1.37c-.4-.4-.92-.59-1.43-.59-.52 0-1.04.2-1.43.59L10.3 9.45l-7.72 7.72c-.78.78-.78 2.05 0 2.83L4 21.41c.39.39.9.59 1.41.59.51 0 1.02-.2 1.41-.59l7.78-7.78 2.81-2.81c.8-.78.8-2.07 0-2.86zM5.41 20L4 18.59l7.72-7.72 1.47 1.35L5.41 20z\"/>\n",
              "  </svg>\n",
              "      </button>\n",
              "      \n",
              "  <style>\n",
              "    .colab-df-container {\n",
              "      display:flex;\n",
              "      flex-wrap:wrap;\n",
              "      gap: 12px;\n",
              "    }\n",
              "\n",
              "    .colab-df-convert {\n",
              "      background-color: #E8F0FE;\n",
              "      border: none;\n",
              "      border-radius: 50%;\n",
              "      cursor: pointer;\n",
              "      display: none;\n",
              "      fill: #1967D2;\n",
              "      height: 32px;\n",
              "      padding: 0 0 0 0;\n",
              "      width: 32px;\n",
              "    }\n",
              "\n",
              "    .colab-df-convert:hover {\n",
              "      background-color: #E2EBFA;\n",
              "      box-shadow: 0px 1px 2px rgba(60, 64, 67, 0.3), 0px 1px 3px 1px rgba(60, 64, 67, 0.15);\n",
              "      fill: #174EA6;\n",
              "    }\n",
              "\n",
              "    [theme=dark] .colab-df-convert {\n",
              "      background-color: #3B4455;\n",
              "      fill: #D2E3FC;\n",
              "    }\n",
              "\n",
              "    [theme=dark] .colab-df-convert:hover {\n",
              "      background-color: #434B5C;\n",
              "      box-shadow: 0px 1px 3px 1px rgba(0, 0, 0, 0.15);\n",
              "      filter: drop-shadow(0px 1px 2px rgba(0, 0, 0, 0.3));\n",
              "      fill: #FFFFFF;\n",
              "    }\n",
              "  </style>\n",
              "\n",
              "      <script>\n",
              "        const buttonEl =\n",
              "          document.querySelector('#df-f1b5780a-ceff-4c13-a84b-226cb29e3837 button.colab-df-convert');\n",
              "        buttonEl.style.display =\n",
              "          google.colab.kernel.accessAllowed ? 'block' : 'none';\n",
              "\n",
              "        async function convertToInteractive(key) {\n",
              "          const element = document.querySelector('#df-f1b5780a-ceff-4c13-a84b-226cb29e3837');\n",
              "          const dataTable =\n",
              "            await google.colab.kernel.invokeFunction('convertToInteractive',\n",
              "                                                     [key], {});\n",
              "          if (!dataTable) return;\n",
              "\n",
              "          const docLinkHtml = 'Like what you see? Visit the ' +\n",
              "            '<a target=\"_blank\" href=https://colab.research.google.com/notebooks/data_table.ipynb>data table notebook</a>'\n",
              "            + ' to learn more about interactive tables.';\n",
              "          element.innerHTML = '';\n",
              "          dataTable['output_type'] = 'display_data';\n",
              "          await google.colab.output.renderOutput(dataTable, element);\n",
              "          const docLink = document.createElement('div');\n",
              "          docLink.innerHTML = docLinkHtml;\n",
              "          element.appendChild(docLink);\n",
              "        }\n",
              "      </script>\n",
              "    </div>\n",
              "  </div>\n",
              "  "
            ]
          },
          "metadata": {},
          "execution_count": 3
        }
      ]
    },
    {
      "cell_type": "code",
      "source": [
        "df.dtypes"
      ],
      "metadata": {
        "colab": {
          "base_uri": "https://localhost:8080/"
        },
        "id": "WOwrgM1CrOTR",
        "outputId": "6bb1c37c-8ffe-44b9-a107-de1318c3af67"
      },
      "execution_count": null,
      "outputs": [
        {
          "output_type": "execute_result",
          "data": {
            "text/plain": [
              "Setting                   object\n",
              "Model                     object\n",
              "Reference_question        object\n",
              "Predicted_question        object\n",
              "Answer                    object\n",
              "Context                   object\n",
              "Answerability            float64\n",
              "Correctness              float64\n",
              "Relevance _to_context    float64\n",
              "Relevance_to_answer      float64\n",
              "dtype: object"
            ]
          },
          "metadata": {},
          "execution_count": 4
        }
      ]
    },
    {
      "cell_type": "code",
      "source": [
        "df.describe()"
      ],
      "metadata": {
        "colab": {
          "base_uri": "https://localhost:8080/",
          "height": 300
        },
        "id": "rzF949dfuQWd",
        "outputId": "979fa375-39a8-4dae-e594-4858c79aedd8"
      },
      "execution_count": null,
      "outputs": [
        {
          "output_type": "execute_result",
          "data": {
            "text/plain": [
              "       Answerability  Correctness  Relevance _to_context  Relevance_to_answer\n",
              "count     900.000000   900.000000             900.000000           899.000000\n",
              "mean        0.890000     0.907778               0.907778             0.839822\n",
              "std         0.313064     0.289500               0.289500             0.366975\n",
              "min         0.000000     0.000000               0.000000             0.000000\n",
              "25%         1.000000     1.000000               1.000000             1.000000\n",
              "50%         1.000000     1.000000               1.000000             1.000000\n",
              "75%         1.000000     1.000000               1.000000             1.000000\n",
              "max         1.000000     1.000000               1.000000             1.000000"
            ],
            "text/html": [
              "\n",
              "  <div id=\"df-004c7734-b12c-4bf3-ac1e-7b2006dd8973\">\n",
              "    <div class=\"colab-df-container\">\n",
              "      <div>\n",
              "<style scoped>\n",
              "    .dataframe tbody tr th:only-of-type {\n",
              "        vertical-align: middle;\n",
              "    }\n",
              "\n",
              "    .dataframe tbody tr th {\n",
              "        vertical-align: top;\n",
              "    }\n",
              "\n",
              "    .dataframe thead th {\n",
              "        text-align: right;\n",
              "    }\n",
              "</style>\n",
              "<table border=\"1\" class=\"dataframe\">\n",
              "  <thead>\n",
              "    <tr style=\"text-align: right;\">\n",
              "      <th></th>\n",
              "      <th>Answerability</th>\n",
              "      <th>Correctness</th>\n",
              "      <th>Relevance _to_context</th>\n",
              "      <th>Relevance_to_answer</th>\n",
              "    </tr>\n",
              "  </thead>\n",
              "  <tbody>\n",
              "    <tr>\n",
              "      <th>count</th>\n",
              "      <td>900.000000</td>\n",
              "      <td>900.000000</td>\n",
              "      <td>900.000000</td>\n",
              "      <td>899.000000</td>\n",
              "    </tr>\n",
              "    <tr>\n",
              "      <th>mean</th>\n",
              "      <td>0.890000</td>\n",
              "      <td>0.907778</td>\n",
              "      <td>0.907778</td>\n",
              "      <td>0.839822</td>\n",
              "    </tr>\n",
              "    <tr>\n",
              "      <th>std</th>\n",
              "      <td>0.313064</td>\n",
              "      <td>0.289500</td>\n",
              "      <td>0.289500</td>\n",
              "      <td>0.366975</td>\n",
              "    </tr>\n",
              "    <tr>\n",
              "      <th>min</th>\n",
              "      <td>0.000000</td>\n",
              "      <td>0.000000</td>\n",
              "      <td>0.000000</td>\n",
              "      <td>0.000000</td>\n",
              "    </tr>\n",
              "    <tr>\n",
              "      <th>25%</th>\n",
              "      <td>1.000000</td>\n",
              "      <td>1.000000</td>\n",
              "      <td>1.000000</td>\n",
              "      <td>1.000000</td>\n",
              "    </tr>\n",
              "    <tr>\n",
              "      <th>50%</th>\n",
              "      <td>1.000000</td>\n",
              "      <td>1.000000</td>\n",
              "      <td>1.000000</td>\n",
              "      <td>1.000000</td>\n",
              "    </tr>\n",
              "    <tr>\n",
              "      <th>75%</th>\n",
              "      <td>1.000000</td>\n",
              "      <td>1.000000</td>\n",
              "      <td>1.000000</td>\n",
              "      <td>1.000000</td>\n",
              "    </tr>\n",
              "    <tr>\n",
              "      <th>max</th>\n",
              "      <td>1.000000</td>\n",
              "      <td>1.000000</td>\n",
              "      <td>1.000000</td>\n",
              "      <td>1.000000</td>\n",
              "    </tr>\n",
              "  </tbody>\n",
              "</table>\n",
              "</div>\n",
              "      <button class=\"colab-df-convert\" onclick=\"convertToInteractive('df-004c7734-b12c-4bf3-ac1e-7b2006dd8973')\"\n",
              "              title=\"Convert this dataframe to an interactive table.\"\n",
              "              style=\"display:none;\">\n",
              "        \n",
              "  <svg xmlns=\"http://www.w3.org/2000/svg\" height=\"24px\"viewBox=\"0 0 24 24\"\n",
              "       width=\"24px\">\n",
              "    <path d=\"M0 0h24v24H0V0z\" fill=\"none\"/>\n",
              "    <path d=\"M18.56 5.44l.94 2.06.94-2.06 2.06-.94-2.06-.94-.94-2.06-.94 2.06-2.06.94zm-11 1L8.5 8.5l.94-2.06 2.06-.94-2.06-.94L8.5 2.5l-.94 2.06-2.06.94zm10 10l.94 2.06.94-2.06 2.06-.94-2.06-.94-.94-2.06-.94 2.06-2.06.94z\"/><path d=\"M17.41 7.96l-1.37-1.37c-.4-.4-.92-.59-1.43-.59-.52 0-1.04.2-1.43.59L10.3 9.45l-7.72 7.72c-.78.78-.78 2.05 0 2.83L4 21.41c.39.39.9.59 1.41.59.51 0 1.02-.2 1.41-.59l7.78-7.78 2.81-2.81c.8-.78.8-2.07 0-2.86zM5.41 20L4 18.59l7.72-7.72 1.47 1.35L5.41 20z\"/>\n",
              "  </svg>\n",
              "      </button>\n",
              "      \n",
              "  <style>\n",
              "    .colab-df-container {\n",
              "      display:flex;\n",
              "      flex-wrap:wrap;\n",
              "      gap: 12px;\n",
              "    }\n",
              "\n",
              "    .colab-df-convert {\n",
              "      background-color: #E8F0FE;\n",
              "      border: none;\n",
              "      border-radius: 50%;\n",
              "      cursor: pointer;\n",
              "      display: none;\n",
              "      fill: #1967D2;\n",
              "      height: 32px;\n",
              "      padding: 0 0 0 0;\n",
              "      width: 32px;\n",
              "    }\n",
              "\n",
              "    .colab-df-convert:hover {\n",
              "      background-color: #E2EBFA;\n",
              "      box-shadow: 0px 1px 2px rgba(60, 64, 67, 0.3), 0px 1px 3px 1px rgba(60, 64, 67, 0.15);\n",
              "      fill: #174EA6;\n",
              "    }\n",
              "\n",
              "    [theme=dark] .colab-df-convert {\n",
              "      background-color: #3B4455;\n",
              "      fill: #D2E3FC;\n",
              "    }\n",
              "\n",
              "    [theme=dark] .colab-df-convert:hover {\n",
              "      background-color: #434B5C;\n",
              "      box-shadow: 0px 1px 3px 1px rgba(0, 0, 0, 0.15);\n",
              "      filter: drop-shadow(0px 1px 2px rgba(0, 0, 0, 0.3));\n",
              "      fill: #FFFFFF;\n",
              "    }\n",
              "  </style>\n",
              "\n",
              "      <script>\n",
              "        const buttonEl =\n",
              "          document.querySelector('#df-004c7734-b12c-4bf3-ac1e-7b2006dd8973 button.colab-df-convert');\n",
              "        buttonEl.style.display =\n",
              "          google.colab.kernel.accessAllowed ? 'block' : 'none';\n",
              "\n",
              "        async function convertToInteractive(key) {\n",
              "          const element = document.querySelector('#df-004c7734-b12c-4bf3-ac1e-7b2006dd8973');\n",
              "          const dataTable =\n",
              "            await google.colab.kernel.invokeFunction('convertToInteractive',\n",
              "                                                     [key], {});\n",
              "          if (!dataTable) return;\n",
              "\n",
              "          const docLinkHtml = 'Like what you see? Visit the ' +\n",
              "            '<a target=\"_blank\" href=https://colab.research.google.com/notebooks/data_table.ipynb>data table notebook</a>'\n",
              "            + ' to learn more about interactive tables.';\n",
              "          element.innerHTML = '';\n",
              "          dataTable['output_type'] = 'display_data';\n",
              "          await google.colab.output.renderOutput(dataTable, element);\n",
              "          const docLink = document.createElement('div');\n",
              "          docLink.innerHTML = docLinkHtml;\n",
              "          element.appendChild(docLink);\n",
              "        }\n",
              "      </script>\n",
              "    </div>\n",
              "  </div>\n",
              "  "
            ]
          },
          "metadata": {},
          "execution_count": 5
        }
      ]
    },
    {
      "cell_type": "code",
      "source": [
        "df['Model'] = df['Model'].map({\"banglat5model\":\"banglat5\",\"mt5_small\":\"mt5_small\"})"
      ],
      "metadata": {
        "id": "B7hbJDr5LpRT"
      },
      "execution_count": null,
      "outputs": []
    },
    {
      "cell_type": "code",
      "source": [
        "import seaborn as sns\n",
        "import matplotlib.pyplot as plt\n",
        "import matplotlib.ticker as mtick\n",
        "%matplotlib inline"
      ],
      "metadata": {
        "id": "uFX1LfKlrQ9z"
      },
      "execution_count": null,
      "outputs": []
    },
    {
      "cell_type": "code",
      "source": [
        "results = df.groupby([\"Model\",\"Setting\"]).mean()"
      ],
      "metadata": {
        "id": "Ad_jn3UzuO6I"
      },
      "execution_count": null,
      "outputs": []
    },
    {
      "cell_type": "code",
      "source": [
        "results"
      ],
      "metadata": {
        "colab": {
          "base_uri": "https://localhost:8080/",
          "height": 269
        },
        "id": "5Gu953reMWg1",
        "outputId": "a3104282-5237-446e-bfcc-52930039886a"
      },
      "execution_count": null,
      "outputs": [
        {
          "output_type": "execute_result",
          "data": {
            "text/plain": [
              "                             Answerability  Correctness  \\\n",
              "Model     Setting                                         \n",
              "banglat5  Beam-search(5)          0.966667     0.986667   \n",
              "          Greedy                  0.960000     0.973333   \n",
              "          Topk-10,temp-0.7.       0.886667     0.920000   \n",
              "mt5_small Beam-search(5)          0.906667     0.913333   \n",
              "          Greedy                  0.873333     0.893333   \n",
              "          Topk-10,temp-0.7.       0.746667     0.760000   \n",
              "\n",
              "                             Relevance _to_context  Relevance_to_answer  \n",
              "Model     Setting                                                        \n",
              "banglat5  Beam-search(5)                  0.973333             0.960000  \n",
              "          Greedy                          0.980000             0.960000  \n",
              "          Topk-10,temp-0.7.               0.953333             0.866667  \n",
              "mt5_small Beam-search(5)                  0.900000             0.813333  \n",
              "          Greedy                          0.893333             0.840000  \n",
              "          Topk-10,temp-0.7.               0.746667             0.597315  "
            ],
            "text/html": [
              "\n",
              "  <div id=\"df-bf7f0e07-e5d1-46b3-b15d-467a90ff8253\">\n",
              "    <div class=\"colab-df-container\">\n",
              "      <div>\n",
              "<style scoped>\n",
              "    .dataframe tbody tr th:only-of-type {\n",
              "        vertical-align: middle;\n",
              "    }\n",
              "\n",
              "    .dataframe tbody tr th {\n",
              "        vertical-align: top;\n",
              "    }\n",
              "\n",
              "    .dataframe thead th {\n",
              "        text-align: right;\n",
              "    }\n",
              "</style>\n",
              "<table border=\"1\" class=\"dataframe\">\n",
              "  <thead>\n",
              "    <tr style=\"text-align: right;\">\n",
              "      <th></th>\n",
              "      <th></th>\n",
              "      <th>Answerability</th>\n",
              "      <th>Correctness</th>\n",
              "      <th>Relevance _to_context</th>\n",
              "      <th>Relevance_to_answer</th>\n",
              "    </tr>\n",
              "    <tr>\n",
              "      <th>Model</th>\n",
              "      <th>Setting</th>\n",
              "      <th></th>\n",
              "      <th></th>\n",
              "      <th></th>\n",
              "      <th></th>\n",
              "    </tr>\n",
              "  </thead>\n",
              "  <tbody>\n",
              "    <tr>\n",
              "      <th rowspan=\"3\" valign=\"top\">banglat5</th>\n",
              "      <th>Beam-search(5)</th>\n",
              "      <td>0.966667</td>\n",
              "      <td>0.986667</td>\n",
              "      <td>0.973333</td>\n",
              "      <td>0.960000</td>\n",
              "    </tr>\n",
              "    <tr>\n",
              "      <th>Greedy</th>\n",
              "      <td>0.960000</td>\n",
              "      <td>0.973333</td>\n",
              "      <td>0.980000</td>\n",
              "      <td>0.960000</td>\n",
              "    </tr>\n",
              "    <tr>\n",
              "      <th>Topk-10,temp-0.7.</th>\n",
              "      <td>0.886667</td>\n",
              "      <td>0.920000</td>\n",
              "      <td>0.953333</td>\n",
              "      <td>0.866667</td>\n",
              "    </tr>\n",
              "    <tr>\n",
              "      <th rowspan=\"3\" valign=\"top\">mt5_small</th>\n",
              "      <th>Beam-search(5)</th>\n",
              "      <td>0.906667</td>\n",
              "      <td>0.913333</td>\n",
              "      <td>0.900000</td>\n",
              "      <td>0.813333</td>\n",
              "    </tr>\n",
              "    <tr>\n",
              "      <th>Greedy</th>\n",
              "      <td>0.873333</td>\n",
              "      <td>0.893333</td>\n",
              "      <td>0.893333</td>\n",
              "      <td>0.840000</td>\n",
              "    </tr>\n",
              "    <tr>\n",
              "      <th>Topk-10,temp-0.7.</th>\n",
              "      <td>0.746667</td>\n",
              "      <td>0.760000</td>\n",
              "      <td>0.746667</td>\n",
              "      <td>0.597315</td>\n",
              "    </tr>\n",
              "  </tbody>\n",
              "</table>\n",
              "</div>\n",
              "      <button class=\"colab-df-convert\" onclick=\"convertToInteractive('df-bf7f0e07-e5d1-46b3-b15d-467a90ff8253')\"\n",
              "              title=\"Convert this dataframe to an interactive table.\"\n",
              "              style=\"display:none;\">\n",
              "        \n",
              "  <svg xmlns=\"http://www.w3.org/2000/svg\" height=\"24px\"viewBox=\"0 0 24 24\"\n",
              "       width=\"24px\">\n",
              "    <path d=\"M0 0h24v24H0V0z\" fill=\"none\"/>\n",
              "    <path d=\"M18.56 5.44l.94 2.06.94-2.06 2.06-.94-2.06-.94-.94-2.06-.94 2.06-2.06.94zm-11 1L8.5 8.5l.94-2.06 2.06-.94-2.06-.94L8.5 2.5l-.94 2.06-2.06.94zm10 10l.94 2.06.94-2.06 2.06-.94-2.06-.94-.94-2.06-.94 2.06-2.06.94z\"/><path d=\"M17.41 7.96l-1.37-1.37c-.4-.4-.92-.59-1.43-.59-.52 0-1.04.2-1.43.59L10.3 9.45l-7.72 7.72c-.78.78-.78 2.05 0 2.83L4 21.41c.39.39.9.59 1.41.59.51 0 1.02-.2 1.41-.59l7.78-7.78 2.81-2.81c.8-.78.8-2.07 0-2.86zM5.41 20L4 18.59l7.72-7.72 1.47 1.35L5.41 20z\"/>\n",
              "  </svg>\n",
              "      </button>\n",
              "      \n",
              "  <style>\n",
              "    .colab-df-container {\n",
              "      display:flex;\n",
              "      flex-wrap:wrap;\n",
              "      gap: 12px;\n",
              "    }\n",
              "\n",
              "    .colab-df-convert {\n",
              "      background-color: #E8F0FE;\n",
              "      border: none;\n",
              "      border-radius: 50%;\n",
              "      cursor: pointer;\n",
              "      display: none;\n",
              "      fill: #1967D2;\n",
              "      height: 32px;\n",
              "      padding: 0 0 0 0;\n",
              "      width: 32px;\n",
              "    }\n",
              "\n",
              "    .colab-df-convert:hover {\n",
              "      background-color: #E2EBFA;\n",
              "      box-shadow: 0px 1px 2px rgba(60, 64, 67, 0.3), 0px 1px 3px 1px rgba(60, 64, 67, 0.15);\n",
              "      fill: #174EA6;\n",
              "    }\n",
              "\n",
              "    [theme=dark] .colab-df-convert {\n",
              "      background-color: #3B4455;\n",
              "      fill: #D2E3FC;\n",
              "    }\n",
              "\n",
              "    [theme=dark] .colab-df-convert:hover {\n",
              "      background-color: #434B5C;\n",
              "      box-shadow: 0px 1px 3px 1px rgba(0, 0, 0, 0.15);\n",
              "      filter: drop-shadow(0px 1px 2px rgba(0, 0, 0, 0.3));\n",
              "      fill: #FFFFFF;\n",
              "    }\n",
              "  </style>\n",
              "\n",
              "      <script>\n",
              "        const buttonEl =\n",
              "          document.querySelector('#df-bf7f0e07-e5d1-46b3-b15d-467a90ff8253 button.colab-df-convert');\n",
              "        buttonEl.style.display =\n",
              "          google.colab.kernel.accessAllowed ? 'block' : 'none';\n",
              "\n",
              "        async function convertToInteractive(key) {\n",
              "          const element = document.querySelector('#df-bf7f0e07-e5d1-46b3-b15d-467a90ff8253');\n",
              "          const dataTable =\n",
              "            await google.colab.kernel.invokeFunction('convertToInteractive',\n",
              "                                                     [key], {});\n",
              "          if (!dataTable) return;\n",
              "\n",
              "          const docLinkHtml = 'Like what you see? Visit the ' +\n",
              "            '<a target=\"_blank\" href=https://colab.research.google.com/notebooks/data_table.ipynb>data table notebook</a>'\n",
              "            + ' to learn more about interactive tables.';\n",
              "          element.innerHTML = '';\n",
              "          dataTable['output_type'] = 'display_data';\n",
              "          await google.colab.output.renderOutput(dataTable, element);\n",
              "          const docLink = document.createElement('div');\n",
              "          docLink.innerHTML = docLinkHtml;\n",
              "          element.appendChild(docLink);\n",
              "        }\n",
              "      </script>\n",
              "    </div>\n",
              "  </div>\n",
              "  "
            ]
          },
          "metadata": {},
          "execution_count": 11
        }
      ]
    },
    {
      "cell_type": "code",
      "source": [
        "context_good_answer_fail = df[(df['Answerability']==1) & (df['Correctness'] == 1) & (df['Relevance _to_context'] == 1) & (df['Relevance_to_answer']==0)]"
      ],
      "metadata": {
        "id": "qpjQeOaWPMkh"
      },
      "execution_count": null,
      "outputs": []
    },
    {
      "cell_type": "code",
      "source": [
        "len(context_good_answer_fail)"
      ],
      "metadata": {
        "colab": {
          "base_uri": "https://localhost:8080/"
        },
        "id": "6onuLlFUPnnv",
        "outputId": "ab9b2554-76de-48a2-ad11-0c5baa6966a4"
      },
      "execution_count": null,
      "outputs": [
        {
          "output_type": "execute_result",
          "data": {
            "text/plain": [
              "58"
            ]
          },
          "metadata": {},
          "execution_count": 39
        }
      ]
    },
    {
      "cell_type": "code",
      "source": [
        "(58/900)*100"
      ],
      "metadata": {
        "colab": {
          "base_uri": "https://localhost:8080/"
        },
        "id": "kYj-0zLWPqMi",
        "outputId": "8bba997d-d35b-41e4-b464-f37784bb4a33"
      },
      "execution_count": null,
      "outputs": [
        {
          "output_type": "execute_result",
          "data": {
            "text/plain": [
              "6.444444444444445"
            ]
          },
          "metadata": {},
          "execution_count": 41
        }
      ]
    },
    {
      "cell_type": "code",
      "source": [
        "sns.set_theme(style=\"whitegrid\", palette=\"pastel\")\n",
        "sns.set(rc={'figure.figsize':(10,12)})\n",
        "sns.set_style(\"ticks\")\n",
        "g = sns.catplot(\n",
        "    data=df, col=\"Model\",\n",
        "    kind=\"bar\"\n",
        ")\n",
        "g.set_xticklabels(\n",
        "    labels=results.columns, rotation=30)\n",
        "g.savefig(\"human_results.png\");"
      ],
      "metadata": {
        "colab": {
          "base_uri": "https://localhost:8080/",
          "height": 426
        },
        "id": "T0uiyvvsLL-_",
        "outputId": "f66572b4-e4de-4416-a146-9d59c6c1ba6c"
      },
      "execution_count": null,
      "outputs": [
        {
          "output_type": "display_data",
          "data": {
            "text/plain": [
              "<Figure size 720x360 with 2 Axes>"
            ],
            "image/png": "[encoded data removed]"
          },
          "metadata": {}
        }
      ]
    },
    {
      "cell_type": "code",
      "source": [
        "sns.set_theme(style=\"whitegrid\", palette=\"pastel\")\n",
        "sns.set_style(\"ticks\")\n",
        "fig, ax = plt.subplots(figsize=(10, 5))\n",
        "ax = sns.barplot(data=df,col='Model')\n",
        "ax.set(xlabel='Dimensions of Human Evaluation', ylabel='Questions',title='Results of Human Evaluation');\n",
        "sns.despine(bottom = True, left = True)\n",
        "plt.savefig(\"human_results.png\")\n",
        "#ax.yaxis.set_major_formatter(mtick.PercentFormatter())\n"
      ],
      "metadata": {
        "colab": {
          "base_uri": "https://localhost:8080/",
          "height": 689
        },
        "id": "yphASZhSsE4V",
        "outputId": "cde3128d-c0bb-4a30-fe00-dd0447e71c86"
      },
      "execution_count": null,
      "outputs": [
        {
          "output_type": "error",
          "ename": "AttributeError",
          "evalue": "ignored",
          "traceback": [
            "\u001b[0;31m---------------------------------------------------------------------------\u001b[0m",
            "\u001b[0;31mAttributeError\u001b[0m                            Traceback (most recent call last)",
            "\u001b[0;32m<ipython-input-11-6b7714b29421>\u001b[0m in \u001b[0;36m<module>\u001b[0;34m\u001b[0m\n\u001b[1;32m      2\u001b[0m \u001b[0msns\u001b[0m\u001b[0;34m.\u001b[0m\u001b[0mset_style\u001b[0m\u001b[0;34m(\u001b[0m\u001b[0;34m\"ticks\"\u001b[0m\u001b[0;34m)\u001b[0m\u001b[0;34m\u001b[0m\u001b[0;34m\u001b[0m\u001b[0m\n\u001b[1;32m      3\u001b[0m \u001b[0mfig\u001b[0m\u001b[0;34m,\u001b[0m \u001b[0max\u001b[0m \u001b[0;34m=\u001b[0m \u001b[0mplt\u001b[0m\u001b[0;34m.\u001b[0m\u001b[0msubplots\u001b[0m\u001b[0;34m(\u001b[0m\u001b[0mfigsize\u001b[0m\u001b[0;34m=\u001b[0m\u001b[0;34m(\u001b[0m\u001b[0;36m10\u001b[0m\u001b[0;34m,\u001b[0m \u001b[0;36m5\u001b[0m\u001b[0;34m)\u001b[0m\u001b[0;34m)\u001b[0m\u001b[0;34m\u001b[0m\u001b[0;34m\u001b[0m\u001b[0m\n\u001b[0;32m----> 4\u001b[0;31m \u001b[0max\u001b[0m \u001b[0;34m=\u001b[0m \u001b[0msns\u001b[0m\u001b[0;34m.\u001b[0m\u001b[0mbarplot\u001b[0m\u001b[0;34m(\u001b[0m\u001b[0mdata\u001b[0m\u001b[0;34m=\u001b[0m\u001b[0mdf\u001b[0m\u001b[0;34m,\u001b[0m\u001b[0mcol\u001b[0m\u001b[0;34m=\u001b[0m\u001b[0;34m'Model'\u001b[0m\u001b[0;34m)\u001b[0m\u001b[0;34m\u001b[0m\u001b[0;34m\u001b[0m\u001b[0m\n\u001b[0m\u001b[1;32m      5\u001b[0m \u001b[0max\u001b[0m\u001b[0;34m.\u001b[0m\u001b[0mset\u001b[0m\u001b[0;34m(\u001b[0m\u001b[0mxlabel\u001b[0m\u001b[0;34m=\u001b[0m\u001b[0;34m'Dimensions of Human Evaluation'\u001b[0m\u001b[0;34m,\u001b[0m \u001b[0mylabel\u001b[0m\u001b[0;34m=\u001b[0m\u001b[0;34m'Questions'\u001b[0m\u001b[0;34m,\u001b[0m\u001b[0mtitle\u001b[0m\u001b[0;34m=\u001b[0m\u001b[0;34m'Results of Human Evaluation'\u001b[0m\u001b[0;34m)\u001b[0m\u001b[0;34m;\u001b[0m\u001b[0;34m\u001b[0m\u001b[0;34m\u001b[0m\u001b[0m\n\u001b[1;32m      6\u001b[0m \u001b[0msns\u001b[0m\u001b[0;34m.\u001b[0m\u001b[0mdespine\u001b[0m\u001b[0;34m(\u001b[0m\u001b[0mbottom\u001b[0m \u001b[0;34m=\u001b[0m \u001b[0;32mTrue\u001b[0m\u001b[0;34m,\u001b[0m \u001b[0mleft\u001b[0m \u001b[0;34m=\u001b[0m \u001b[0;32mTrue\u001b[0m\u001b[0;34m)\u001b[0m\u001b[0;34m\u001b[0m\u001b[0;34m\u001b[0m\u001b[0m\n",
            "\u001b[0;32m/usr/local/lib/python3.7/dist-packages/seaborn/_decorators.py\u001b[0m in \u001b[0;36minner_f\u001b[0;34m(*args, **kwargs)\u001b[0m\n\u001b[1;32m     44\u001b[0m             )\n\u001b[1;32m     45\u001b[0m         \u001b[0mkwargs\u001b[0m\u001b[0;34m.\u001b[0m\u001b[0mupdate\u001b[0m\u001b[0;34m(\u001b[0m\u001b[0;34m{\u001b[0m\u001b[0mk\u001b[0m\u001b[0;34m:\u001b[0m \u001b[0marg\u001b[0m \u001b[0;32mfor\u001b[0m \u001b[0mk\u001b[0m\u001b[0;34m,\u001b[0m \u001b[0marg\u001b[0m \u001b[0;32min\u001b[0m \u001b[0mzip\u001b[0m\u001b[0;34m(\u001b[0m\u001b[0msig\u001b[0m\u001b[0;34m.\u001b[0m\u001b[0mparameters\u001b[0m\u001b[0;34m,\u001b[0m \u001b[0margs\u001b[0m\u001b[0;34m)\u001b[0m\u001b[0;34m}\u001b[0m\u001b[0;34m)\u001b[0m\u001b[0;34m\u001b[0m\u001b[0;34m\u001b[0m\u001b[0m\n\u001b[0;32m---> 46\u001b[0;31m         \u001b[0;32mreturn\u001b[0m \u001b[0mf\u001b[0m\u001b[0;34m(\u001b[0m\u001b[0;34m**\u001b[0m\u001b[0mkwargs\u001b[0m\u001b[0;34m)\u001b[0m\u001b[0;34m\u001b[0m\u001b[0;34m\u001b[0m\u001b[0m\n\u001b[0m\u001b[1;32m     47\u001b[0m     \u001b[0;32mreturn\u001b[0m \u001b[0minner_f\u001b[0m\u001b[0;34m\u001b[0m\u001b[0;34m\u001b[0m\u001b[0m\n\u001b[1;32m     48\u001b[0m \u001b[0;34m\u001b[0m\u001b[0m\n",
            "\u001b[0;32m/usr/local/lib/python3.7/dist-packages/seaborn/categorical.py\u001b[0m in \u001b[0;36mbarplot\u001b[0;34m(x, y, hue, data, order, hue_order, estimator, ci, n_boot, units, seed, orient, color, palette, saturation, errcolor, errwidth, capsize, dodge, ax, **kwargs)\u001b[0m\n\u001b[1;32m   3188\u001b[0m         \u001b[0max\u001b[0m \u001b[0;34m=\u001b[0m \u001b[0mplt\u001b[0m\u001b[0;34m.\u001b[0m\u001b[0mgca\u001b[0m\u001b[0;34m(\u001b[0m\u001b[0;34m)\u001b[0m\u001b[0;34m\u001b[0m\u001b[0;34m\u001b[0m\u001b[0m\n\u001b[1;32m   3189\u001b[0m \u001b[0;34m\u001b[0m\u001b[0m\n\u001b[0;32m-> 3190\u001b[0;31m     \u001b[0mplotter\u001b[0m\u001b[0;34m.\u001b[0m\u001b[0mplot\u001b[0m\u001b[0;34m(\u001b[0m\u001b[0max\u001b[0m\u001b[0;34m,\u001b[0m \u001b[0mkwargs\u001b[0m\u001b[0;34m)\u001b[0m\u001b[0;34m\u001b[0m\u001b[0;34m\u001b[0m\u001b[0m\n\u001b[0m\u001b[1;32m   3191\u001b[0m     \u001b[0;32mreturn\u001b[0m \u001b[0max\u001b[0m\u001b[0;34m\u001b[0m\u001b[0;34m\u001b[0m\u001b[0m\n\u001b[1;32m   3192\u001b[0m \u001b[0;34m\u001b[0m\u001b[0m\n",
            "\u001b[0;32m/usr/local/lib/python3.7/dist-packages/seaborn/categorical.py\u001b[0m in \u001b[0;36mplot\u001b[0;34m(self, ax, bar_kws)\u001b[0m\n\u001b[1;32m   1637\u001b[0m     \u001b[0;32mdef\u001b[0m \u001b[0mplot\u001b[0m\u001b[0;34m(\u001b[0m\u001b[0mself\u001b[0m\u001b[0;34m,\u001b[0m \u001b[0max\u001b[0m\u001b[0;34m,\u001b[0m \u001b[0mbar_kws\u001b[0m\u001b[0;34m)\u001b[0m\u001b[0;34m:\u001b[0m\u001b[0;34m\u001b[0m\u001b[0;34m\u001b[0m\u001b[0m\n\u001b[1;32m   1638\u001b[0m         \u001b[0;34m\"\"\"Make the plot.\"\"\"\u001b[0m\u001b[0;34m\u001b[0m\u001b[0;34m\u001b[0m\u001b[0m\n\u001b[0;32m-> 1639\u001b[0;31m         \u001b[0mself\u001b[0m\u001b[0;34m.\u001b[0m\u001b[0mdraw_bars\u001b[0m\u001b[0;34m(\u001b[0m\u001b[0max\u001b[0m\u001b[0;34m,\u001b[0m \u001b[0mbar_kws\u001b[0m\u001b[0;34m)\u001b[0m\u001b[0;34m\u001b[0m\u001b[0;34m\u001b[0m\u001b[0m\n\u001b[0m\u001b[1;32m   1640\u001b[0m         \u001b[0mself\u001b[0m\u001b[0;34m.\u001b[0m\u001b[0mannotate_axes\u001b[0m\u001b[0;34m(\u001b[0m\u001b[0max\u001b[0m\u001b[0;34m)\u001b[0m\u001b[0;34m\u001b[0m\u001b[0;34m\u001b[0m\u001b[0m\n\u001b[1;32m   1641\u001b[0m         \u001b[0;32mif\u001b[0m \u001b[0mself\u001b[0m\u001b[0;34m.\u001b[0m\u001b[0morient\u001b[0m \u001b[0;34m==\u001b[0m \u001b[0;34m\"h\"\u001b[0m\u001b[0;34m:\u001b[0m\u001b[0;34m\u001b[0m\u001b[0;34m\u001b[0m\u001b[0m\n",
            "\u001b[0;32m/usr/local/lib/python3.7/dist-packages/seaborn/categorical.py\u001b[0m in \u001b[0;36mdraw_bars\u001b[0;34m(self, ax, kws)\u001b[0m\n\u001b[1;32m   1603\u001b[0m             \u001b[0;31m# Draw the bars\u001b[0m\u001b[0;34m\u001b[0m\u001b[0;34m\u001b[0m\u001b[0;34m\u001b[0m\u001b[0m\n\u001b[1;32m   1604\u001b[0m             barfunc(barpos, self.statistic, self.width,\n\u001b[0;32m-> 1605\u001b[0;31m                     color=self.colors, align=\"center\", **kws)\n\u001b[0m\u001b[1;32m   1606\u001b[0m \u001b[0;34m\u001b[0m\u001b[0m\n\u001b[1;32m   1607\u001b[0m             \u001b[0;31m# Draw the confidence intervals\u001b[0m\u001b[0;34m\u001b[0m\u001b[0;34m\u001b[0m\u001b[0;34m\u001b[0m\u001b[0m\n",
            "\u001b[0;32m/usr/local/lib/python3.7/dist-packages/matplotlib/__init__.py\u001b[0m in \u001b[0;36minner\u001b[0;34m(ax, data, *args, **kwargs)\u001b[0m\n\u001b[1;32m   1563\u001b[0m     \u001b[0;32mdef\u001b[0m \u001b[0minner\u001b[0m\u001b[0;34m(\u001b[0m\u001b[0max\u001b[0m\u001b[0;34m,\u001b[0m \u001b[0;34m*\u001b[0m\u001b[0margs\u001b[0m\u001b[0;34m,\u001b[0m \u001b[0mdata\u001b[0m\u001b[0;34m=\u001b[0m\u001b[0;32mNone\u001b[0m\u001b[0;34m,\u001b[0m \u001b[0;34m**\u001b[0m\u001b[0mkwargs\u001b[0m\u001b[0;34m)\u001b[0m\u001b[0;34m:\u001b[0m\u001b[0;34m\u001b[0m\u001b[0;34m\u001b[0m\u001b[0m\n\u001b[1;32m   1564\u001b[0m         \u001b[0;32mif\u001b[0m \u001b[0mdata\u001b[0m \u001b[0;32mis\u001b[0m \u001b[0;32mNone\u001b[0m\u001b[0;34m:\u001b[0m\u001b[0;34m\u001b[0m\u001b[0;34m\u001b[0m\u001b[0m\n\u001b[0;32m-> 1565\u001b[0;31m             \u001b[0;32mreturn\u001b[0m \u001b[0mfunc\u001b[0m\u001b[0;34m(\u001b[0m\u001b[0max\u001b[0m\u001b[0;34m,\u001b[0m \u001b[0;34m*\u001b[0m\u001b[0mmap\u001b[0m\u001b[0;34m(\u001b[0m\u001b[0msanitize_sequence\u001b[0m\u001b[0;34m,\u001b[0m \u001b[0margs\u001b[0m\u001b[0;34m)\u001b[0m\u001b[0;34m,\u001b[0m \u001b[0;34m**\u001b[0m\u001b[0mkwargs\u001b[0m\u001b[0;34m)\u001b[0m\u001b[0;34m\u001b[0m\u001b[0;34m\u001b[0m\u001b[0m\n\u001b[0m\u001b[1;32m   1566\u001b[0m \u001b[0;34m\u001b[0m\u001b[0m\n\u001b[1;32m   1567\u001b[0m         \u001b[0mbound\u001b[0m \u001b[0;34m=\u001b[0m \u001b[0mnew_sig\u001b[0m\u001b[0;34m.\u001b[0m\u001b[0mbind\u001b[0m\u001b[0;34m(\u001b[0m\u001b[0max\u001b[0m\u001b[0;34m,\u001b[0m \u001b[0;34m*\u001b[0m\u001b[0margs\u001b[0m\u001b[0;34m,\u001b[0m \u001b[0;34m**\u001b[0m\u001b[0mkwargs\u001b[0m\u001b[0;34m)\u001b[0m\u001b[0;34m\u001b[0m\u001b[0;34m\u001b[0m\u001b[0m\n",
            "\u001b[0;32m/usr/local/lib/python3.7/dist-packages/matplotlib/axes/_axes.py\u001b[0m in \u001b[0;36mbar\u001b[0;34m(self, x, height, width, bottom, align, **kwargs)\u001b[0m\n\u001b[1;32m   2396\u001b[0m                 \u001b[0mlabel\u001b[0m\u001b[0;34m=\u001b[0m\u001b[0;34m'_nolegend_'\u001b[0m\u001b[0;34m,\u001b[0m\u001b[0;34m\u001b[0m\u001b[0;34m\u001b[0m\u001b[0m\n\u001b[1;32m   2397\u001b[0m                 )\n\u001b[0;32m-> 2398\u001b[0;31m             \u001b[0mr\u001b[0m\u001b[0;34m.\u001b[0m\u001b[0mupdate\u001b[0m\u001b[0;34m(\u001b[0m\u001b[0mkwargs\u001b[0m\u001b[0;34m)\u001b[0m\u001b[0;34m\u001b[0m\u001b[0;34m\u001b[0m\u001b[0m\n\u001b[0m\u001b[1;32m   2399\u001b[0m             \u001b[0mr\u001b[0m\u001b[0;34m.\u001b[0m\u001b[0mget_path\u001b[0m\u001b[0;34m(\u001b[0m\u001b[0;34m)\u001b[0m\u001b[0;34m.\u001b[0m\u001b[0m_interpolation_steps\u001b[0m \u001b[0;34m=\u001b[0m \u001b[0;36m100\u001b[0m\u001b[0;34m\u001b[0m\u001b[0;34m\u001b[0m\u001b[0m\n\u001b[1;32m   2400\u001b[0m             \u001b[0;32mif\u001b[0m \u001b[0morientation\u001b[0m \u001b[0;34m==\u001b[0m \u001b[0;34m'vertical'\u001b[0m\u001b[0;34m:\u001b[0m\u001b[0;34m\u001b[0m\u001b[0;34m\u001b[0m\u001b[0m\n",
            "\u001b[0;32m/usr/local/lib/python3.7/dist-packages/matplotlib/artist.py\u001b[0m in \u001b[0;36mupdate\u001b[0;34m(self, props)\u001b[0m\n\u001b[1;32m   1004\u001b[0m \u001b[0;34m\u001b[0m\u001b[0m\n\u001b[1;32m   1005\u001b[0m         \u001b[0;32mwith\u001b[0m \u001b[0mcbook\u001b[0m\u001b[0;34m.\u001b[0m\u001b[0m_setattr_cm\u001b[0m\u001b[0;34m(\u001b[0m\u001b[0mself\u001b[0m\u001b[0;34m,\u001b[0m \u001b[0meventson\u001b[0m\u001b[0;34m=\u001b[0m\u001b[0;32mFalse\u001b[0m\u001b[0;34m)\u001b[0m\u001b[0;34m:\u001b[0m\u001b[0;34m\u001b[0m\u001b[0;34m\u001b[0m\u001b[0m\n\u001b[0;32m-> 1006\u001b[0;31m             \u001b[0mret\u001b[0m \u001b[0;34m=\u001b[0m \u001b[0;34m[\u001b[0m\u001b[0m_update_property\u001b[0m\u001b[0;34m(\u001b[0m\u001b[0mself\u001b[0m\u001b[0;34m,\u001b[0m \u001b[0mk\u001b[0m\u001b[0;34m,\u001b[0m \u001b[0mv\u001b[0m\u001b[0;34m)\u001b[0m \u001b[0;32mfor\u001b[0m \u001b[0mk\u001b[0m\u001b[0;34m,\u001b[0m \u001b[0mv\u001b[0m \u001b[0;32min\u001b[0m \u001b[0mprops\u001b[0m\u001b[0;34m.\u001b[0m\u001b[0mitems\u001b[0m\u001b[0;34m(\u001b[0m\u001b[0;34m)\u001b[0m\u001b[0;34m]\u001b[0m\u001b[0;34m\u001b[0m\u001b[0;34m\u001b[0m\u001b[0m\n\u001b[0m\u001b[1;32m   1007\u001b[0m \u001b[0;34m\u001b[0m\u001b[0m\n\u001b[1;32m   1008\u001b[0m         \u001b[0;32mif\u001b[0m \u001b[0mlen\u001b[0m\u001b[0;34m(\u001b[0m\u001b[0mret\u001b[0m\u001b[0;34m)\u001b[0m\u001b[0;34m:\u001b[0m\u001b[0;34m\u001b[0m\u001b[0;34m\u001b[0m\u001b[0m\n",
            "\u001b[0;32m/usr/local/lib/python3.7/dist-packages/matplotlib/artist.py\u001b[0m in \u001b[0;36m<listcomp>\u001b[0;34m(.0)\u001b[0m\n\u001b[1;32m   1004\u001b[0m \u001b[0;34m\u001b[0m\u001b[0m\n\u001b[1;32m   1005\u001b[0m         \u001b[0;32mwith\u001b[0m \u001b[0mcbook\u001b[0m\u001b[0;34m.\u001b[0m\u001b[0m_setattr_cm\u001b[0m\u001b[0;34m(\u001b[0m\u001b[0mself\u001b[0m\u001b[0;34m,\u001b[0m \u001b[0meventson\u001b[0m\u001b[0;34m=\u001b[0m\u001b[0;32mFalse\u001b[0m\u001b[0;34m)\u001b[0m\u001b[0;34m:\u001b[0m\u001b[0;34m\u001b[0m\u001b[0;34m\u001b[0m\u001b[0m\n\u001b[0;32m-> 1006\u001b[0;31m             \u001b[0mret\u001b[0m \u001b[0;34m=\u001b[0m \u001b[0;34m[\u001b[0m\u001b[0m_update_property\u001b[0m\u001b[0;34m(\u001b[0m\u001b[0mself\u001b[0m\u001b[0;34m,\u001b[0m \u001b[0mk\u001b[0m\u001b[0;34m,\u001b[0m \u001b[0mv\u001b[0m\u001b[0;34m)\u001b[0m \u001b[0;32mfor\u001b[0m \u001b[0mk\u001b[0m\u001b[0;34m,\u001b[0m \u001b[0mv\u001b[0m \u001b[0;32min\u001b[0m \u001b[0mprops\u001b[0m\u001b[0;34m.\u001b[0m\u001b[0mitems\u001b[0m\u001b[0;34m(\u001b[0m\u001b[0;34m)\u001b[0m\u001b[0;34m]\u001b[0m\u001b[0;34m\u001b[0m\u001b[0;34m\u001b[0m\u001b[0m\n\u001b[0m\u001b[1;32m   1007\u001b[0m \u001b[0;34m\u001b[0m\u001b[0m\n\u001b[1;32m   1008\u001b[0m         \u001b[0;32mif\u001b[0m \u001b[0mlen\u001b[0m\u001b[0;34m(\u001b[0m\u001b[0mret\u001b[0m\u001b[0;34m)\u001b[0m\u001b[0;34m:\u001b[0m\u001b[0;34m\u001b[0m\u001b[0;34m\u001b[0m\u001b[0m\n",
            "\u001b[0;32m/usr/local/lib/python3.7/dist-packages/matplotlib/artist.py\u001b[0m in \u001b[0;36m_update_property\u001b[0;34m(self, k, v)\u001b[0m\n\u001b[1;32m   1000\u001b[0m                 \u001b[0;32mif\u001b[0m \u001b[0;32mnot\u001b[0m \u001b[0mcallable\u001b[0m\u001b[0;34m(\u001b[0m\u001b[0mfunc\u001b[0m\u001b[0;34m)\u001b[0m\u001b[0;34m:\u001b[0m\u001b[0;34m\u001b[0m\u001b[0;34m\u001b[0m\u001b[0m\n\u001b[1;32m   1001\u001b[0m                     raise AttributeError('{!r} object has no property {!r}'\n\u001b[0;32m-> 1002\u001b[0;31m                                          .format(type(self).__name__, k))\n\u001b[0m\u001b[1;32m   1003\u001b[0m                 \u001b[0;32mreturn\u001b[0m \u001b[0mfunc\u001b[0m\u001b[0;34m(\u001b[0m\u001b[0mv\u001b[0m\u001b[0;34m)\u001b[0m\u001b[0;34m\u001b[0m\u001b[0;34m\u001b[0m\u001b[0m\n\u001b[1;32m   1004\u001b[0m \u001b[0;34m\u001b[0m\u001b[0m\n",
            "\u001b[0;31mAttributeError\u001b[0m: 'Rectangle' object has no property 'col'"
          ]
        },
        {
          "output_type": "display_data",
          "data": {
            "text/plain": [
              "<Figure size 720x360 with 1 Axes>"
            ],
            "image/png": "[encoded data removed]"
          },
          "metadata": {}
        }
      ]
    },
    {
      "cell_type": "code",
      "source": [],
      "metadata": {
        "id": "Xo5PhHjR7v5J"
      },
      "execution_count": null,
      "outputs": []
    },
    {
      "cell_type": "code",
      "source": [],
      "metadata": {
        "id": "85GL6mXa6xzW"
      },
      "execution_count": null,
      "outputs": []
    }
  ]
}